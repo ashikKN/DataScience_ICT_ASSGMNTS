{
  "nbformat": 4,
  "nbformat_minor": 0,
  "metadata": {
    "colab": {
      "provenance": [],
      "authorship_tag": "ABX9TyPSfoGRwdt4eUdUvDBoaqHR",
      "include_colab_link": true
    },
    "kernelspec": {
      "name": "python3",
      "display_name": "Python 3"
    },
    "language_info": {
      "name": "python"
    }
  },
  "cells": [
    {
      "cell_type": "markdown",
      "metadata": {
        "id": "view-in-github",
        "colab_type": "text"
      },
      "source": [
        "<a href=\"https://colab.research.google.com/github/ashikKN/DataScience_ICT_ASSGMNTS/blob/main/Python_basic_task.ipynb\" target=\"_parent\"><img src=\"https://colab.research.google.com/assets/colab-badge.svg\" alt=\"Open In Colab\"/></a>"
      ]
    },
    {
      "cell_type": "markdown",
      "source": [
        "1.Given the string \"Hello, World!\", extract and print the substring \"Hello\"\n"
      ],
      "metadata": {
        "id": "VCEiAW0xIb9t"
      }
    },
    {
      "cell_type": "code",
      "source": [
        "string = \"Hello, World!\"\n",
        "\n",
        "subString = string[0:5]\n",
        "\n",
        "print(subString)"
      ],
      "metadata": {
        "colab": {
          "base_uri": "https://localhost:8080/"
        },
        "id": "art_CaSjIpLD",
        "outputId": "517e318f-1153-470f-fc73-5b5505ccdb89"
      },
      "execution_count": 1,
      "outputs": [
        {
          "output_type": "stream",
          "name": "stdout",
          "text": [
            "Hello\n"
          ]
        }
      ]
    },
    {
      "cell_type": "markdown",
      "source": [
        "2.Given the string \"Python is fun\", extract and print the substring \"is\"."
      ],
      "metadata": {
        "id": "_EK1m26cI912"
      }
    },
    {
      "cell_type": "code",
      "source": [
        "string = \"Python is fun\"\n",
        "subString = string[7:9]\n",
        "print(subString)"
      ],
      "metadata": {
        "colab": {
          "base_uri": "https://localhost:8080/"
        },
        "id": "G0dw977eI-6o",
        "outputId": "701addfe-3e8d-4b38-fb20-8e9e1f8f9407"
      },
      "execution_count": 7,
      "outputs": [
        {
          "output_type": "stream",
          "name": "stdout",
          "text": [
            "is\n"
          ]
        }
      ]
    },
    {
      "cell_type": "markdown",
      "source": [
        "3.Given the string \"Programming\", extract and print the substring \"gram\" using slicing indices."
      ],
      "metadata": {
        "id": "ZFnbBZIgJReI"
      }
    },
    {
      "cell_type": "code",
      "source": [
        "string = \"Programming\"\n",
        "\n",
        "subString = string[3:7]\n",
        "print(subString)\n",
        "\n"
      ],
      "metadata": {
        "colab": {
          "base_uri": "https://localhost:8080/"
        },
        "id": "QZa5yj_zJOlq",
        "outputId": "f560c1e2-1ade-4b1f-86b0-9e9b6a72217b"
      },
      "execution_count": 9,
      "outputs": [
        {
          "output_type": "stream",
          "name": "stdout",
          "text": [
            "gram\n"
          ]
        }
      ]
    },
    {
      "cell_type": "markdown",
      "source": [
        "4.Given the string \"abcdefgh\", use slicing to print only the characters at even indices."
      ],
      "metadata": {
        "id": "H3-PLWyXJl8t"
      }
    },
    {
      "cell_type": "code",
      "source": [
        "string = \"abcdefgh\"\n",
        "\n",
        "evenIndexChars = string[::2]\n",
        "\n",
        "print(evenIndexChars)\n"
      ],
      "metadata": {
        "colab": {
          "base_uri": "https://localhost:8080/"
        },
        "id": "itt170UFJtqg",
        "outputId": "05c5daec-2b47-4086-9914-71453d666bfa"
      },
      "execution_count": 10,
      "outputs": [
        {
          "output_type": "stream",
          "name": "stdout",
          "text": [
            "aceg\n"
          ]
        }
      ]
    },
    {
      "cell_type": "markdown",
      "source": [
        "5.Given the string \"abcdefg\", use negative indices to extract and print the substring \"efg\""
      ],
      "metadata": {
        "id": "GII08a2DKOrH"
      }
    },
    {
      "cell_type": "code",
      "source": [
        "string = \"abcdefg\"\n",
        "substring = string[-3::]\n",
        "print(substring)\n"
      ],
      "metadata": {
        "colab": {
          "base_uri": "https://localhost:8080/"
        },
        "id": "qilOYhclKR7D",
        "outputId": "38e022e7-543f-4a19-9743-57f843d9d0d3"
      },
      "execution_count": 11,
      "outputs": [
        {
          "output_type": "stream",
          "name": "stdout",
          "text": [
            "efg\n"
          ]
        }
      ]
    },
    {
      "cell_type": "markdown",
      "source": [
        "6.Given the string \"Data Science\", use negative indices to extract and print the last three characters"
      ],
      "metadata": {
        "id": "ROTt6iTnKgCv"
      }
    },
    {
      "cell_type": "code",
      "source": [
        "string = \"Data Science\"\n",
        "last_three_chars = string[-3:]\n",
        "print(last_three_chars)\n"
      ],
      "metadata": {
        "colab": {
          "base_uri": "https://localhost:8080/"
        },
        "id": "_5RswjGXKjki",
        "outputId": "4f203308-7ca9-4567-81c1-76b05f24b9af"
      },
      "execution_count": 13,
      "outputs": [
        {
          "output_type": "stream",
          "name": "stdout",
          "text": [
            "nce\n"
          ]
        }
      ]
    },
    {
      "cell_type": "markdown",
      "source": [
        "7.Given the string \"abcdefghij\", use slicing with a step to print every second character.\n"
      ],
      "metadata": {
        "id": "kG6-CfxhK388"
      }
    },
    {
      "cell_type": "code",
      "source": [
        "string = \"abcdefghij\"\n",
        "every_second_char = string[::2]\n",
        "print(every_second_char)\n"
      ],
      "metadata": {
        "colab": {
          "base_uri": "https://localhost:8080/"
        },
        "id": "M3D3EQIwK6rp",
        "outputId": "e940c798-7d20-477e-d72b-fac11d12c6b6"
      },
      "execution_count": 14,
      "outputs": [
        {
          "output_type": "stream",
          "name": "stdout",
          "text": [
            "acegi\n"
          ]
        }
      ]
    },
    {
      "cell_type": "markdown",
      "source": [
        "8.Given the string \"1234567890\", use slicing with a step to print the odd digits.\n"
      ],
      "metadata": {
        "id": "KOzD5UkDLCKF"
      }
    },
    {
      "cell_type": "code",
      "source": [
        "string = \"1234567890\"\n",
        "\n",
        "odd_digits = string[1::2]\n",
        "\n",
        "print(odd_digits)\n"
      ],
      "metadata": {
        "colab": {
          "base_uri": "https://localhost:8080/"
        },
        "id": "Ozw__ngILGCx",
        "outputId": "f63e3072-2ff4-4a76-b8ca-421d20dac1ac"
      },
      "execution_count": 15,
      "outputs": [
        {
          "output_type": "stream",
          "name": "stdout",
          "text": [
            "24680\n"
          ]
        }
      ]
    },
    {
      "cell_type": "markdown",
      "source": [
        "9.Given the string \"Hello\", use slicing to print the string in reverse order"
      ],
      "metadata": {
        "id": "h7vJrFh0Lqj3"
      }
    },
    {
      "cell_type": "code",
      "source": [
        "string = \"Hello\"\n",
        "\n",
        "reverse_string = string[::-1]\n",
        "\n",
        "print(reverse_string)\n"
      ],
      "metadata": {
        "colab": {
          "base_uri": "https://localhost:8080/"
        },
        "id": "2750JFnlL58u",
        "outputId": "1762056e-8b7d-4b67-b16b-415ab3897b5d"
      },
      "execution_count": 16,
      "outputs": [
        {
          "output_type": "stream",
          "name": "stdout",
          "text": [
            "olleH\n"
          ]
        }
      ]
    },
    {
      "cell_type": "markdown",
      "source": [
        "10.Given the string \"abcdefghijk\", extract and print the substring \"acegik\" using slicing."
      ],
      "metadata": {
        "id": "5aqXGjcaL8ZG"
      }
    },
    {
      "cell_type": "code",
      "source": [
        "string = \"abcdefghijk\"\n",
        "\n",
        "substring = string[0:11:2]\n",
        "\n",
        "print(substring)\n"
      ],
      "metadata": {
        "id": "H42bk2EvL_Xh"
      },
      "execution_count": null,
      "outputs": []
    },
    {
      "cell_type": "markdown",
      "source": [
        "11.Write a program to find sum of all elements in a list of integers."
      ],
      "metadata": {
        "id": "PpcbWrQ0MC9g"
      }
    },
    {
      "cell_type": "code",
      "source": [
        "numbers = [int(x) for x in input(\"Enter a list of integers separated by spaces: \").split()]\n",
        "\n",
        "total_sum = sum(numbers)\n",
        "\n",
        "print(\"The sum of all elements in the list is:\", total_sum)\n",
        "\n",
        ""
      ],
      "metadata": {
        "colab": {
          "base_uri": "https://localhost:8080/"
        },
        "id": "zpZ4QqLKMGu0",
        "outputId": "cefcb63f-b6aa-460f-daf9-aca655fba018"
      },
      "execution_count": 17,
      "outputs": [
        {
          "output_type": "stream",
          "name": "stdout",
          "text": [
            "Enter a list of integers separated by spaces: 8 7 5 4 6 9\n",
            "The sum of all elements in the list is: 39\n"
          ]
        }
      ]
    },
    {
      "cell_type": "markdown",
      "source": [
        "12.Input a sentence as a string. a) Print its length b) Print the first half of string"
      ],
      "metadata": {
        "id": "Bwek-1VSMNWr"
      }
    },
    {
      "cell_type": "code",
      "source": [
        "sentence = input(\"Enter a sentence: \")\n",
        "\n",
        "length = len(sentence)\n",
        "print(\"The length of the sentence is:\", length)\n",
        "\n",
        "half_index = length // 2\n",
        "first_half = sentence[:half_index]\n",
        "print(\"The first half of the sentence is:\", first_half)"
      ],
      "metadata": {
        "colab": {
          "base_uri": "https://localhost:8080/"
        },
        "id": "8vxo0kIgMQwp",
        "outputId": "1d4fc5c4-cde3-479e-f826-108dbff2b776"
      },
      "execution_count": 18,
      "outputs": [
        {
          "output_type": "stream",
          "name": "stdout",
          "text": [
            "Enter a sentence: happy independence day\n",
            "The length of the sentence is: 22\n",
            "The first half of the sentence is: happy indep\n"
          ]
        }
      ]
    },
    {
      "cell_type": "markdown",
      "source": [
        "13.Write a program to enter a tuple of integers as (78,45,32,19,82,77,40,39). Change the third value in the tuple to 100"
      ],
      "metadata": {
        "id": "MVABuBMeMc0d"
      }
    },
    {
      "cell_type": "code",
      "source": [
        "original_tuple = (78, 45, 32, 19, 82, 77, 40, 39)\n",
        "\n",
        "temp_list = list(original_tuple)\n",
        "\n",
        "temp_list[2] = 100\n",
        "\n",
        "modified_tuple = tuple(temp_list)\n",
        "\n",
        "print(\"Modified tuple:\", modified_tuple)\n"
      ],
      "metadata": {
        "colab": {
          "base_uri": "https://localhost:8080/"
        },
        "id": "DTOz6t_kMi0H",
        "outputId": "22755886-551e-4142-9745-80139d3b52e8"
      },
      "execution_count": 19,
      "outputs": [
        {
          "output_type": "stream",
          "name": "stdout",
          "text": [
            "Modified tuple: (78, 45, 100, 19, 82, 77, 40, 39)\n"
          ]
        }
      ]
    },
    {
      "cell_type": "markdown",
      "source": [
        "14.Consider a list listA=[19,32,10,55,31,32,94,29,10,65,77,40,40]\n",
        "(a) Delete the first occurrence of 32\n",
        "(b) Delete all occurrences of 40\n",
        "(c) Delete the value at index=5\n",
        "(d) Modify the value at index=9 as 300\n",
        "(e) Add 200 at index=2\n",
        "(f) Print the final list with its length, maximum value and sum of all elements"
      ],
      "metadata": {
        "id": "EMKGbgdtMosn"
      }
    },
    {
      "cell_type": "code",
      "source": [
        "listA = [19, 32, 10, 55, 31, 32, 94, 29, 10, 65, 77, 40, 40]\n",
        "\n",
        "if 32 in listA:\n",
        "    listA.remove(32)\n",
        "print(\"After removing 32:\", listA)\n",
        "listA = [x for x in listA if x != 40]\n",
        "print(\"After deleting occurence of 40:\", listA)\n",
        "if len(listA) > 5:\n",
        "    del listA[5]\n",
        "print(\"After deleting index 5 :\", listA)\n",
        "listA.insert(9,300)\n",
        "print(\"After modifying the value at index 9 :\", listA)\n",
        "listA.insert(2, 200)\n",
        "print(\"After adding 200 at index 2 :\", listA)\n",
        "\n",
        "print(\"Final list:\", listA)\n",
        "print(\"Length of the list:\", len(listA))\n",
        "print(\"Maximum value in the list:\", max(listA))\n",
        "print(\"Sum of all elements in the list:\", sum(listA))"
      ],
      "metadata": {
        "colab": {
          "base_uri": "https://localhost:8080/"
        },
        "id": "6pc-2ZvIMzCz",
        "outputId": "22cec975-bdbd-4edd-f31e-2b94ab0678fc"
      },
      "execution_count": 21,
      "outputs": [
        {
          "output_type": "stream",
          "name": "stdout",
          "text": [
            "After removing 32: [19, 10, 55, 31, 32, 94, 29, 10, 65, 77, 40, 40]\n",
            "After deleting occurence of 40: [19, 10, 55, 31, 32, 94, 29, 10, 65, 77]\n",
            "After deleting index 5 : [19, 10, 55, 31, 32, 29, 10, 65, 77]\n",
            "After modifying the value at index 9 : [19, 10, 55, 31, 32, 29, 10, 65, 77, 300]\n",
            "After adding 200 at index 2 : [19, 10, 200, 55, 31, 32, 29, 10, 65, 77, 300]\n",
            "Final list: [19, 10, 200, 55, 31, 32, 29, 10, 65, 77, 300]\n",
            "Length of the list: 11\n",
            "Maximum value in the list: 300\n",
            "Sum of all elements in the list: 828\n"
          ]
        }
      ]
    },
    {
      "cell_type": "markdown",
      "source": [
        "15.Consider a string ”The day has been long”. (a) Delete the value at index =4 (b) Print the string 4 times in a single line with space between each repetition (c) Print the string 3 times in a new line each time (d) Modify the string at index 7 as ’A’ (e) Print the string from index 4 to 15 (f) Print the final string with its length\n"
      ],
      "metadata": {
        "id": "mJHnCgOfNLzt"
      }
    },
    {
      "cell_type": "code",
      "source": [
        "string = \"The day has been long\"\n",
        "\n",
        "string_a = string[:4] + string[5:]\n",
        "print(\"String after deleting index 4:\", string_a)\n",
        "\n",
        "print(\" \".join([string_a] * 4))\n",
        "\n",
        "for _ in range(3):\n",
        "    print(string_a)\n",
        "\n",
        "string_d = string_a[:7] + 'A' + string_a[8:]\n",
        "print(\"String after modifying index 7:\", string_d)\n",
        "\n",
        "\n",
        "print(\"Substring from index 4 to 15:\", string_d[4:16])\n",
        "\n",
        "final_string = string_d\n",
        "print(\"Final string:\", final_string)\n",
        "print(\"Length of the final string:\", len(final_string))\n"
      ],
      "metadata": {
        "colab": {
          "base_uri": "https://localhost:8080/"
        },
        "id": "aYIMDqZcNVaa",
        "outputId": "65a367a5-6af6-48b0-ecf2-71fe9e9bada5"
      },
      "execution_count": 22,
      "outputs": [
        {
          "output_type": "stream",
          "name": "stdout",
          "text": [
            "String after deleting index 4: The ay has been long\n",
            "The ay has been long The ay has been long The ay has been long The ay has been long\n",
            "The ay has been long\n",
            "The ay has been long\n",
            "The ay has been long\n",
            "String after modifying index 7: The ay Aas been long\n",
            "Substring from index 4 to 15: ay Aas been \n",
            "Final string: The ay Aas been long\n",
            "Length of the final string: 20\n"
          ]
        }
      ]
    }
  ]
}