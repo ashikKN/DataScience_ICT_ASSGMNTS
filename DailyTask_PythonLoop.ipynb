{
  "nbformat": 4,
  "nbformat_minor": 0,
  "metadata": {
    "colab": {
      "provenance": [],
      "authorship_tag": "ABX9TyOZeKB8ouBmtGBF8jYpVgLR",
      "include_colab_link": true
    },
    "kernelspec": {
      "name": "python3",
      "display_name": "Python 3"
    },
    "language_info": {
      "name": "python"
    }
  },
  "cells": [
    {
      "cell_type": "markdown",
      "metadata": {
        "id": "view-in-github",
        "colab_type": "text"
      },
      "source": [
        "<a href=\"https://colab.research.google.com/github/ashikKN/DataScience_ICT_ASSGMNTS/blob/main/DailyTask_PythonLoop.ipynb\" target=\"_parent\"><img src=\"https://colab.research.google.com/assets/colab-badge.svg\" alt=\"Open In Colab\"/></a>"
      ]
    },
    {
      "cell_type": "code",
      "execution_count": 1,
      "metadata": {
        "colab": {
          "base_uri": "https://localhost:8080/"
        },
        "id": "cAnZww0JjsJv",
        "outputId": "6228ab29-89d5-4308-b0b6-f6e728c45919"
      },
      "outputs": [
        {
          "output_type": "stream",
          "name": "stdout",
          "text": [
            "Enter Age of First Person30\n",
            "Enter Age of Second Person25\n",
            "Enter Age of Third Person65\n",
            "Oldest Person 65\n",
            "Youngest Person 25\n"
          ]
        }
      ],
      "source": [
        "Age1 = int(input(\"Enter Age of First Person\"))\n",
        "Age2 = int(input(\"Enter Age of Second Person\"))\n",
        "Age3 = int(input(\"Enter Age of Third Person\"))\n",
        "\n",
        "print(\"Oldest Person\",max(Age1,Age2,Age3))\n",
        "print(\"Youngest Person\",min(Age1,Age2,Age3))"
      ]
    },
    {
      "cell_type": "code",
      "source": [
        "Mark = int(input(\"Enter Your Marks\"))\n",
        "\n",
        "if Mark >= 90:\n",
        "    print(\"Grade A\")\n",
        "elif Mark >= 80:\n",
        "    print(\"Grade B\")\n",
        "elif Mark >= 70:\n",
        "    print(\"Grade C\")\n",
        "else:\n",
        "    print(\"Grade F\")\n"
      ],
      "metadata": {
        "colab": {
          "base_uri": "https://localhost:8080/"
        },
        "id": "RuxNR9X6j61V",
        "outputId": "f63f1881-d8b1-46fc-8386-27d6bc6c4b67"
      },
      "execution_count": 3,
      "outputs": [
        {
          "output_type": "stream",
          "name": "stdout",
          "text": [
            "Enter Your Marks76\n",
            "Grade C\n"
          ]
        }
      ]
    },
    {
      "cell_type": "code",
      "source": [
        "items = input(\"Enter the grocery items separated by commas: \").split(',')\n",
        "items1 = items.sort()\n",
        "print(items)\n"
      ],
      "metadata": {
        "colab": {
          "base_uri": "https://localhost:8080/"
        },
        "id": "ivHQDLx3kDL4",
        "outputId": "def010b4-9cab-4f34-d681-b9b6a171a887"
      },
      "execution_count": 4,
      "outputs": [
        {
          "output_type": "stream",
          "name": "stdout",
          "text": [
            "Enter the grocery items separated by commas: Rice ,Vegetables,Oil\n",
            "['Oil', 'Rice ', 'Vegetables']\n"
          ]
        }
      ]
    },
    {
      "cell_type": "code",
      "source": [
        "Email = input(\"Enter Your Email Address:\")\n",
        "if '@' in Email:\n",
        "    print (\"Valid Email\")\n",
        "else :\n",
        "    print(\"Invalid Email\")"
      ],
      "metadata": {
        "colab": {
          "base_uri": "https://localhost:8080/"
        },
        "id": "bTEZHIk8kMsI",
        "outputId": "b98c05b1-37b1-4439-d2b0-f4c2eb10c8fc"
      },
      "execution_count": 5,
      "outputs": [
        {
          "output_type": "stream",
          "name": "stdout",
          "text": [
            "Enter Your Email Address:ashik@gmail.com\n",
            "Valid Email\n"
          ]
        }
      ]
    },
    {
      "cell_type": "code",
      "source": [
        "Number_of_Days = int(input(\"Enter Number of Days:\"))\n",
        "if Number_of_Days <= 7:\n",
        "  print(\"There is No Fine\")\n",
        "elif Number_of_Days <= 30:\n",
        "  print(\"Fine is\",Number_of_Days*2)\n",
        "else:\n",
        "  print(\"Fine is\",Number_of_Days*5)"
      ],
      "metadata": {
        "colab": {
          "base_uri": "https://localhost:8080/"
        },
        "id": "WN8Pp3u8kWt3",
        "outputId": "50e576b2-960c-4f41-b328-fa4c72a63f86"
      },
      "execution_count": 6,
      "outputs": [
        {
          "output_type": "stream",
          "name": "stdout",
          "text": [
            "Enter Number of Days:7\n",
            "There is No Fine\n"
          ]
        }
      ]
    },
    {
      "cell_type": "code",
      "source": [
        "\n",
        "Character = str(input(\"Enter a Character:\"))\n",
        "Character.lower()\n",
        "Vowels = (\"a\",\"e\",\"i\",\"o\",\"u\")\n",
        "if Character in Vowels:\n",
        "   print(\"It is a Vowel\")\n",
        "else:\n",
        "  print(\"It is not a Vowel\")"
      ],
      "metadata": {
        "colab": {
          "base_uri": "https://localhost:8080/"
        },
        "id": "m2LRhq41kfqW",
        "outputId": "207a18e8-4298-4405-e5a2-0195a3a0e41c"
      },
      "execution_count": 7,
      "outputs": [
        {
          "output_type": "stream",
          "name": "stdout",
          "text": [
            "Enter a Character:k\n",
            "It is not a Vowel\n"
          ]
        }
      ]
    },
    {
      "cell_type": "code",
      "source": [
        "num = int(input(\"Enter a number: \"))\n",
        "factorial = 1\n",
        "\n",
        "for i in range(1, num + 1):\n",
        "    factorial *= i\n",
        "\n",
        "print(\"The factorial of\", num, \"is\",factorial)"
      ],
      "metadata": {
        "colab": {
          "base_uri": "https://localhost:8080/"
        },
        "id": "RsBPUjPYknKY",
        "outputId": "50bd1c1a-3ac0-41a2-9cfa-4b9285cf0526"
      },
      "execution_count": 8,
      "outputs": [
        {
          "output_type": "stream",
          "name": "stdout",
          "text": [
            "Enter a number: 14\n",
            "The factorial of 14 is 87178291200\n"
          ]
        }
      ]
    },
    {
      "cell_type": "code",
      "source": [
        "limit = int(input(\"Enter the limit for Fibonacci sequence: \"))\n",
        "a, b = 0, 1\n",
        "\n",
        "print(\"Fibonacci sequence:\")\n",
        "while a <= limit:\n",
        "    print(a, end=' ')\n",
        "    a, b = b, a + b"
      ],
      "metadata": {
        "colab": {
          "base_uri": "https://localhost:8080/"
        },
        "id": "uWBKdVhukt7k",
        "outputId": "16c51de3-1373-4e64-b371-69c256d67c26"
      },
      "execution_count": 9,
      "outputs": [
        {
          "output_type": "stream",
          "name": "stdout",
          "text": [
            "Enter the limit for Fibonacci sequence: 6\n",
            "Fibonacci sequence:\n",
            "0 1 1 2 3 5 "
          ]
        }
      ]
    },
    {
      "cell_type": "code",
      "source": [
        "import random\n",
        "\n",
        "number = random.randint(1, 100)\n",
        "attempts = 0\n",
        "guess = 0\n",
        "\n",
        "while guess != number:\n",
        "    guess = int(input(\"Guess the number between 1 and 100: \"))\n",
        "    attempts += 1\n",
        "\n",
        "    if guess < number:\n",
        "        print(\"Too low!\")\n",
        "    elif guess > number:\n",
        "        print(\"Too high!\")\n",
        "    else:\n",
        "        print(\"Congratulations! You've guessed the number in \",attempts,\"attempts\")"
      ],
      "metadata": {
        "id": "Rs_cAp1Fkzvu"
      },
      "execution_count": null,
      "outputs": []
    },
    {
      "cell_type": "code",
      "source": [
        "def subtraction(a, b):\n",
        "    return a - b\n",
        "\n",
        "def multiplication(a, b):\n",
        "    return a * b\n",
        "\n",
        "def division(a, b):\n",
        "    if b != 0:\n",
        "        return a / b\n",
        "    else:\n",
        "        return \"Cannot divide by zero\"\n",
        "\n",
        "while True:\n",
        "    print(\"\\nMenu:\")\n",
        "    print(\"a. Addition\")\n",
        "    print(\"b. Subtraction\")\n",
        "    print(\"c. Division\")\n",
        "    print(\"d. Multiplication\")\n",
        "    print(\"e. Exit\")\n",
        "\n",
        "    choice = input(\"Enter your choice: \")\n",
        "\n",
        "    if choice in ['a', 'b', 'c', 'd']:\n",
        "        n1 = float(input(\"Enter first number: \"))\n",
        "        n2 = float(input(\"Enter second number: \"))\n",
        "\n",
        "        if choice == 'a':\n",
        "            print(\"Result: \",addition(n1, n2))\n",
        "        elif choice == 'b':\n",
        "            print(\"Result:\",subtraction(n1, n2))\n",
        "        elif choice == 'c':\n",
        "            print(\"Result: \",division(n1, n2))\n",
        "        elif choice == 'd':\n",
        "            print(\"Result:\",multiplication(n1, n2))\n",
        "    elif choice == 'e':\n",
        "        print(\"Exiting the calculator.\")\n",
        "        break\n",
        "    else:\n",
        "        print(\"Invalid choice! Please try again.\")\n"
      ],
      "metadata": {
        "colab": {
          "base_uri": "https://localhost:8080/"
        },
        "id": "tlgd-P60k6fS",
        "outputId": "66ffa697-aa2f-47e6-90bd-87f3fb46e65d"
      },
      "execution_count": null,
      "outputs": [
        {
          "output_type": "stream",
          "name": "stdout",
          "text": [
            "\n",
            "Menu:\n",
            "a. Addition\n",
            "b. Subtraction\n",
            "c. Division\n",
            "d. Multiplication\n",
            "e. Exit\n",
            "Enter your choice: d\n",
            "Enter first number: 10\n",
            "Enter second number: 5\n",
            "Result: 50.0\n",
            "\n",
            "Menu:\n",
            "a. Addition\n",
            "b. Subtraction\n",
            "c. Division\n",
            "d. Multiplication\n",
            "e. Exit\n"
          ]
        }
      ]
    },
    {
      "cell_type": "code",
      "source": [],
      "metadata": {
        "id": "nryO43PolObq"
      },
      "execution_count": null,
      "outputs": []
    }
  ]
}