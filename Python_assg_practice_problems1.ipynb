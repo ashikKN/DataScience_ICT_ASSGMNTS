{
  "nbformat": 4,
  "nbformat_minor": 0,
  "metadata": {
    "colab": {
      "provenance": [],
      "authorship_tag": "ABX9TyOrs6KSWSkumd90o/PUyTeI",
      "include_colab_link": true
    },
    "kernelspec": {
      "name": "python3",
      "display_name": "Python 3"
    },
    "language_info": {
      "name": "python"
    }
  },
  "cells": [
    {
      "cell_type": "markdown",
      "metadata": {
        "id": "view-in-github",
        "colab_type": "text"
      },
      "source": [
        "<a href=\"https://colab.research.google.com/github/ashikKN/DataScience_ICT_ASSGMNTS/blob/main/Python_assg_practice_problems1.ipynb\" target=\"_parent\"><img src=\"https://colab.research.google.com/assets/colab-badge.svg\" alt=\"Open In Colab\"/></a>"
      ]
    },
    {
      "cell_type": "markdown",
      "source": [
        "1.Write a Python program which accepts the radius of a circle from the user and compute the area. Sample input: Enter the radius: 3 Sample output: Area of Circle is 28.59999999999"
      ],
      "metadata": {
        "id": "Cw6e2PcJmCRj"
      }
    },
    {
      "cell_type": "code",
      "source": [
        "import math\n",
        "\n",
        "def calculate_area_of_circle(radius):\n",
        "    return math.pi * (radius ** 2)\n",
        "\n",
        "try:\n",
        "    radius = float(input(\"Enter the radius of the circle: \"))\n",
        "\n",
        "    if radius < 0:\n",
        "        print(\"Radius cannot be negative. Please enter a non-negative value.\")\n",
        "    else:\n",
        "        area = calculate_area_of_circle(radius)\n",
        "        print(f\"The area of the circle is: {area}\")\n",
        "\n",
        "except ValueError:\n",
        "    print(\"Invalid input !!! Please enter a numeric value for the radius.\")\n"
      ],
      "metadata": {
        "colab": {
          "base_uri": "https://localhost:8080/"
        },
        "id": "PYAkXCadmmvF",
        "outputId": "70ceec70-940f-4ef3-bc97-98180e20c5c3"
      },
      "execution_count": 1,
      "outputs": [
        {
          "output_type": "stream",
          "name": "stdout",
          "text": [
            "Enter the radius of the circle: 3\n",
            "The area of the circle is: 28.274333882308138\n"
          ]
        }
      ]
    },
    {
      "cell_type": "markdown",
      "source": [
        "2.Write a Python Program to accept the details of a student like name, roll number and mark and display it. Sample input: Enter the name: Anisha Enter the roll number: 21 Enter the mark: 78 Sample output: Name: Anisha Roll No: 21 Mark: 78"
      ],
      "metadata": {
        "id": "wUh6JLLwnEVV"
      }
    },
    {
      "cell_type": "code",
      "source": [
        "def get_student_details():\n",
        "\n",
        "    name = input(\"Enter the student's name: \")\n",
        "    roll_number = input(\"Enter the student's roll number: \")\n",
        "    try:\n",
        "        marks = float(input(\"Enter the student's marks: \"))\n",
        "    except ValueError:\n",
        "        print(\"Invalid input!!! Marks should be a numeric value.\")\n",
        "        return\n",
        "\n",
        "    print(\"\\nStudent Details:\")\n",
        "    print(f\"Name: {name}\")\n",
        "    print(f\"Roll Number: {roll_number}\")\n",
        "    print(f\"Marks: {marks:.2f}\")\n",
        "\n",
        "get_student_details()"
      ],
      "metadata": {
        "colab": {
          "base_uri": "https://localhost:8080/"
        },
        "id": "-YimwsEsnJYf",
        "outputId": "8461400a-7e9e-498b-af39-53dda7051735"
      },
      "execution_count": 2,
      "outputs": [
        {
          "output_type": "stream",
          "name": "stdout",
          "text": [
            "Enter the student's name: Ashik\n",
            "Enter the student's roll number: 17\n",
            "Enter the student's marks: 78\n",
            "\n",
            "Student Details:\n",
            "Name: Ashik\n",
            "Roll Number: 17\n",
            "Marks: 78.00\n"
          ]
        }
      ]
    },
    {
      "cell_type": "markdown",
      "source": [
        "3.Write a Python program to get the largest number from a list. Sample input: 12, 3, 47, 10 Sample output: 47 is the largest number"
      ],
      "metadata": {
        "id": "oVk3Wfldnqk6"
      }
    },
    {
      "cell_type": "code",
      "source": [
        "def find_largest_number(numbers):\n",
        "    if not numbers:\n",
        "        return None\n",
        "\n",
        "    largest = numbers[0]\n",
        "    for num in numbers:\n",
        "        if num > largest:\n",
        "            largest = num\n",
        "\n",
        "    return largest\n",
        "\n",
        "\n",
        "numbers = [12,3,47,10]\n",
        "\n",
        "\n",
        "largest_number = find_largest_number(numbers)\n",
        "\n",
        "\n",
        "if largest_number is not None:\n",
        "    print(f\"The largest number in the list is: {largest_number}\")\n",
        "else:\n",
        "    print(\"The list is empty.\")\n"
      ],
      "metadata": {
        "id": "D8HVed_znxpW"
      },
      "execution_count": null,
      "outputs": []
    },
    {
      "cell_type": "markdown",
      "source": [
        "4.Given a range of first 10 numbers, write a Python program to iterate from start number to the end number and print the sum of the current number and previous number. Sample input: 1….10 Sample output: Current Number 1 Previous Number 0 Sum: 1 Current Number 2 Previous Number 1 Sum: 3 Current Number 3 Previous Number 2 Sum: 5… Current Number 10 Previous Number 9 Sum: 19"
      ],
      "metadata": {
        "id": "k0YAG4K4n3LJ"
      }
    },
    {
      "cell_type": "code",
      "source": [
        "def sum_of_current_and_previous(start, end):\n",
        "    previous_number = start\n",
        "    for current_number in range(start + 1, end + 1):\n",
        "        sum_of_numbers = current_number + previous_number\n",
        "        print(f\"Sum of {current_number} and {previous_number} is: {sum_of_numbers}\")\n",
        "        previous_number = current_number\n",
        "\n",
        "\n",
        "start_number = 1\n",
        "end_number = 10\n",
        "\n",
        "\n",
        "sum_of_current_and_previous(start_number, end_number)\n"
      ],
      "metadata": {
        "colab": {
          "base_uri": "https://localhost:8080/"
        },
        "id": "EyWSoGoRn7t0",
        "outputId": "d7608bfa-7807-4c39-e3ad-3b0c9977e8af"
      },
      "execution_count": 3,
      "outputs": [
        {
          "output_type": "stream",
          "name": "stdout",
          "text": [
            "Sum of 2 and 1 is: 3\n",
            "Sum of 3 and 2 is: 5\n",
            "Sum of 4 and 3 is: 7\n",
            "Sum of 5 and 4 is: 9\n",
            "Sum of 6 and 5 is: 11\n",
            "Sum of 7 and 6 is: 13\n",
            "Sum of 8 and 7 is: 15\n",
            "Sum of 9 and 8 is: 17\n",
            "Sum of 10 and 9 is: 19\n"
          ]
        }
      ]
    },
    {
      "cell_type": "markdown",
      "source": [
        "5.Write a Python program to print only those numbers which are divisible of 5. Sample input: 10, 20,33,46,55 Sample output: 10, 20, 55"
      ],
      "metadata": {
        "id": "LJqQo7iRoCSK"
      }
    },
    {
      "cell_type": "code",
      "source": [
        "def print_divisible_by_5(numbers):\n",
        "    divisible_by_5 = [num for num in numbers if num % 5 == 0]\n",
        "    print(\", \".join(map(str, divisible_by_5)))\n",
        "\n",
        "\n",
        "numbers = [10, 20, 33, 46, 55]\n",
        "\n",
        "print_divisible_by_5(numbers)\n"
      ],
      "metadata": {
        "colab": {
          "base_uri": "https://localhost:8080/"
        },
        "id": "cnJg1dAYoXB5",
        "outputId": "7ca522eb-3eb9-4d03-ef9c-d870eb081aee"
      },
      "execution_count": 4,
      "outputs": [
        {
          "output_type": "stream",
          "name": "stdout",
          "text": [
            "10, 20, 55\n"
          ]
        }
      ]
    },
    {
      "cell_type": "markdown",
      "source": [
        "6.Write a Python program to check whether a number is prime or not. Sample input: Enter the number: 3 Sample output: 3 is a prime number."
      ],
      "metadata": {
        "id": "pFOLnWFdoZG7"
      }
    },
    {
      "cell_type": "code",
      "source": [
        "def is_prime(number):\n",
        "    if number <= 1:\n",
        "        return False\n",
        "    if number <= 3:\n",
        "        return True\n",
        "    if number % 2 == 0 or number % 3 == 0:\n",
        "        return False\n",
        "    i = 5\n",
        "    while i * i <= number:\n",
        "        if number % i == 0 or number % (i + 2) == 0:\n",
        "            return False\n",
        "        i += 6\n",
        "    return True\n",
        "\n",
        "\n",
        "try:\n",
        "    num = int(input(\"Enter a number : \"))\n",
        "    if is_prime(num):\n",
        "        print(f\"{num} is a prime number.\")\n",
        "    else:\n",
        "        print(f\"{num} is not a prime number.\")\n",
        "except ValueError:\n",
        "    print(\"Invalid input. Please enter an integer.\")\n"
      ],
      "metadata": {
        "colab": {
          "base_uri": "https://localhost:8080/"
        },
        "id": "DGqiCejSocXU",
        "outputId": "997dd4f0-2dbe-4fda-f142-600ebd99ab7f"
      },
      "execution_count": 5,
      "outputs": [
        {
          "output_type": "stream",
          "name": "stdout",
          "text": [
            "Enter a number : 23\n",
            "23 is a prime number.\n"
          ]
        }
      ]
    },
    {
      "cell_type": "markdown",
      "source": [
        "7.Write a Python program to reverse a list using for loop. Sample input: 10,40,30,70 Sample output: 70,30,40,10"
      ],
      "metadata": {
        "id": "m6mb52vXoktC"
      }
    },
    {
      "cell_type": "code",
      "source": [
        "def reverse_list(original_list):\n",
        "    reversed_list = []\n",
        "    for item in original_list:\n",
        "        reversed_list.insert(0, item)\n",
        "    return reversed_list\n",
        "\n",
        "\n",
        "my_list = [10,40,30,70]\n",
        "\n",
        "\n",
        "reversed_list = reverse_list(my_list)\n",
        "\n",
        "\n",
        "print(\"Input:\", my_list)\n",
        "print(\"Output:\", reversed_list)\n"
      ],
      "metadata": {
        "colab": {
          "base_uri": "https://localhost:8080/"
        },
        "id": "c9vAALJBoqUQ",
        "outputId": "80a1a5ff-da9a-454b-c6c8-db97bfeff3fb"
      },
      "execution_count": 6,
      "outputs": [
        {
          "output_type": "stream",
          "name": "stdout",
          "text": [
            "Input: [10, 40, 30, 70]\n",
            "Output: [70, 30, 40, 10]\n"
          ]
        }
      ]
    },
    {
      "cell_type": "markdown",
      "source": [
        "8.Write a Python program to print the following pattern."
      ],
      "metadata": {
        "id": "RqEteZM6ov_X"
      }
    },
    {
      "cell_type": "code",
      "source": [
        "def print_pattern(rows):\n",
        "    for i in range(1, rows + 1):\n",
        "        print('*' * i)\n",
        "\n",
        "\n",
        "number_of_rows = 4\n",
        "print_pattern(number_of_rows)"
      ],
      "metadata": {
        "colab": {
          "base_uri": "https://localhost:8080/"
        },
        "id": "hDtTDMnPo2JR",
        "outputId": "e80efa74-0e05-4ee6-e3e1-26a38ad1db31"
      },
      "execution_count": 7,
      "outputs": [
        {
          "output_type": "stream",
          "name": "stdout",
          "text": [
            "*\n",
            "**\n",
            "***\n",
            "****\n"
          ]
        }
      ]
    },
    {
      "cell_type": "markdown",
      "source": [
        "9.Write a Python program to find the maximum of three numbers Sample input: 34,12,7 Sample output: 34"
      ],
      "metadata": {
        "id": "go9WM3GYpGQb"
      }
    },
    {
      "cell_type": "code",
      "source": [
        "def find_max_of_three(num1, num2, num3):\n",
        "    return max(num1, num2, num3)\n",
        "\n",
        "\n",
        "number1 = float(input(\"Enter the first number: \"))\n",
        "number2 = float(input(\"Enter the second number: \"))\n",
        "number3 = float(input(\"Enter the third number: \"))\n",
        "\n",
        "\n",
        "maximum_number = find_max_of_three(number1, number2, number3)\n",
        "\n",
        "print(f\"The maximum number is: {maximum_number}\")"
      ],
      "metadata": {
        "colab": {
          "base_uri": "https://localhost:8080/"
        },
        "id": "x2HSsiDJpK-H",
        "outputId": "efd011e2-12a3-4224-9a77-1355656f3c2f"
      },
      "execution_count": 9,
      "outputs": [
        {
          "output_type": "stream",
          "name": "stdout",
          "text": [
            "Enter the first number: 75\n",
            "Enter the second number: 85\n",
            "Enter the third number: 74\n",
            "The maximum number is: 85.0\n"
          ]
        }
      ]
    },
    {
      "cell_type": "markdown",
      "source": [
        "10.Write a Python program to construct the following pattern, using a nested for loop."
      ],
      "metadata": {
        "id": "d8UjN2l8pYEQ"
      }
    },
    {
      "cell_type": "code",
      "source": [
        "def print_pattern():\n",
        "\n",
        "    max_stars = 5\n",
        "\n",
        "    for i in range(1, max_stars + 1):\n",
        "        print('*' * i)\n",
        "\n",
        "    for i in range(max_stars - 1, 0, -1):\n",
        "        print('*' * i)\n",
        "\n",
        "print_pattern()\n",
        "\n",
        "\n"
      ],
      "metadata": {
        "colab": {
          "base_uri": "https://localhost:8080/"
        },
        "id": "l0REmNZNpa9x",
        "outputId": "d28cb5db-5c5e-490a-b0f1-9b9a79a1001b"
      },
      "execution_count": 10,
      "outputs": [
        {
          "output_type": "stream",
          "name": "stdout",
          "text": [
            "*\n",
            "**\n",
            "***\n",
            "****\n",
            "*****\n",
            "****\n",
            "***\n",
            "**\n",
            "*\n"
          ]
        }
      ]
    }
  ]
}