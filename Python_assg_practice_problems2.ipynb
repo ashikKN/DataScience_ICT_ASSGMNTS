{
  "nbformat": 4,
  "nbformat_minor": 0,
  "metadata": {
    "colab": {
      "provenance": [],
      "authorship_tag": "ABX9TyMHPLRTrCnKdHZYkUMHu1MF",
      "include_colab_link": true
    },
    "kernelspec": {
      "name": "python3",
      "display_name": "Python 3"
    },
    "language_info": {
      "name": "python"
    }
  },
  "cells": [
    {
      "cell_type": "markdown",
      "metadata": {
        "id": "view-in-github",
        "colab_type": "text"
      },
      "source": [
        "<a href=\"https://colab.research.google.com/github/ashikKN/DataScience_ICT_ASSGMNTS/blob/main/Python_assg_practice_problems2.ipynb\" target=\"_parent\"><img src=\"https://colab.research.google.com/assets/colab-badge.svg\" alt=\"Open In Colab\"/></a>"
      ]
    },
    {
      "cell_type": "markdown",
      "source": [
        "1.Write a Python program to accept a string value from the user and display the count of each character in that string. Sample input: Enter a string value: assembly Sample output: a=1, s=2, e=1, m=1, b=1, l=1, y=1"
      ],
      "metadata": {
        "id": "8CnQehtvqZ2J"
      }
    },
    {
      "cell_type": "code",
      "source": [
        "user_input = input(\"Enter a string value: \")\n",
        "\n",
        "\n",
        "char_count = {}\n",
        "\n",
        "\n",
        "for char in user_input:\n",
        "    if char in char_count:\n",
        "        char_count[char] += 1\n",
        "    else:\n",
        "        char_count[char] = 1\n",
        "\n",
        "\n",
        "output = ', '.join([f'{char}={count}' for char, count in char_count.items()])\n",
        "print(output)\n"
      ],
      "metadata": {
        "colab": {
          "base_uri": "https://localhost:8080/"
        },
        "id": "rGbZw3VTqdP_",
        "outputId": "321b0a2e-edab-44c4-83ed-00b6cf5587df"
      },
      "execution_count": 1,
      "outputs": [
        {
          "output_type": "stream",
          "name": "stdout",
          "text": [
            "Enter a string value: datascience\n",
            "d=1, a=2, t=1, s=1, c=2, i=1, e=2, n=1\n"
          ]
        }
      ]
    },
    {
      "cell_type": "markdown",
      "source": [],
      "metadata": {
        "id": "r6zxr9B0qlhq"
      }
    },
    {
      "cell_type": "markdown",
      "source": [
        "2.Write a Python function to find the maximum of three numbers Sample input: 34,12,7 Sample output: 34"
      ],
      "metadata": {
        "id": "sCOG4LpPq9js"
      }
    },
    {
      "cell_type": "code",
      "source": [
        "def find_maximum(a, b, c):\n",
        "    return max(a, b, c)\n",
        "\n",
        "a = int(input(\"Enter first Number:\"))\n",
        "b = int(input(\"Enter second number:\"))\n",
        "c = int(input(\"Enter third Number:\"))\n",
        "\n",
        "max_value = find_maximum(a,b,c)\n",
        "\n",
        "print(f\"The maximum value is : {max_value}\")"
      ],
      "metadata": {
        "colab": {
          "base_uri": "https://localhost:8080/"
        },
        "id": "hnHbE6xlrEkm",
        "outputId": "ae7ff7aa-8b6b-4e46-b5f1-0ca9992f964b"
      },
      "execution_count": 4,
      "outputs": [
        {
          "output_type": "stream",
          "name": "stdout",
          "text": [
            "Enter first Number:34\n",
            "Enter second number:12\n",
            "Enter third Number:7\n",
            "The maximum value is : 34\n"
          ]
        }
      ]
    },
    {
      "cell_type": "markdown",
      "source": [
        "3.Write a Python function called exponent(base,exp) that returns an integer value of base raises to the power of exp. Sample input: Enter the base: 2 Enter the exponent: 3 Sample output: 8"
      ],
      "metadata": {
        "id": "xfO__h2drQ0Y"
      }
    },
    {
      "cell_type": "code",
      "source": [
        "def exponent(base, exp):\n",
        "    return base ** exp\n",
        "\n",
        "\n",
        "base = int(input(\"Enter Base:\"))\n",
        "exp = int(input(\"Enter Exponent\"))\n",
        "\n",
        "result = exponent(base, exp)\n",
        "\n",
        "print(\"Result =\",result)\n"
      ],
      "metadata": {
        "colab": {
          "base_uri": "https://localhost:8080/"
        },
        "id": "c2AfvaakrUQB",
        "outputId": "59a7c73b-f467-4cd0-b70f-5fb5f9a62662"
      },
      "execution_count": 5,
      "outputs": [
        {
          "output_type": "stream",
          "name": "stdout",
          "text": [
            "Enter Base:2\n",
            "Enter Exponent3\n",
            "Result = 8\n"
          ]
        }
      ]
    },
    {
      "cell_type": "markdown",
      "source": [
        "4.Write a Python function that takes a positive integer and returns the sum of the cube of all the positive integers smaller than the specified number. Sample input: 4 Sample output: 36."
      ],
      "metadata": {
        "id": "E9itSMdKrbJc"
      }
    },
    {
      "cell_type": "code",
      "source": [
        "def sum_of_cubes(n):\n",
        "\n",
        "    return sum(i**3 for i in range(1, n))\n",
        "\n",
        "number = int(input(\"Enter Number:\"))\n",
        "\n",
        "result = sum_of_cubes(number)\n",
        "\n",
        "print(f\"The sum of the cubes of all positive integers smaller than {number} is: {result}\")\n"
      ],
      "metadata": {
        "colab": {
          "base_uri": "https://localhost:8080/"
        },
        "id": "dxKAUaJ-rd5M",
        "outputId": "f70d0028-c1de-43cc-8b5c-506688d6c30f"
      },
      "execution_count": 6,
      "outputs": [
        {
          "output_type": "stream",
          "name": "stdout",
          "text": [
            "Enter Number:4\n",
            "The sum of the cubes of all positive integers smaller than 4 is: 36\n"
          ]
        }
      ]
    },
    {
      "cell_type": "markdown",
      "source": [
        "5.Write a Python program which iterates from 1 to 10. For multiples of 2, print “Fizz” instead of the number and for the multiples of 5, print “Buzz”. For numbers which are multiples of both 2 and 5, print “FizzBuzz”. Sample input: numbers from 1 to 10 Sample output: 1 Fizz 3 Fizz Buzz Fizz 7 Fizz 9 FizzBuzz\n"
      ],
      "metadata": {
        "id": "-afTIWcurtPb"
      }
    },
    {
      "cell_type": "code",
      "source": [
        "for i in range(1, 11):\n",
        "    if i % 2 == 0 and i % 5 == 0:\n",
        "        print(\"FizzBuzz\")\n",
        "    elif i % 2 == 0:\n",
        "        print(\"Fizz\")\n",
        "    elif i % 5 == 0:\n",
        "        print(\"Buzz\")\n",
        "    else:\n",
        "        print(i)\n",
        "\n",
        ""
      ],
      "metadata": {
        "colab": {
          "base_uri": "https://localhost:8080/"
        },
        "id": "_8C4vl1uryB1",
        "outputId": "cfb63095-76d4-400f-f866-215eca8fb791"
      },
      "execution_count": 7,
      "outputs": [
        {
          "output_type": "stream",
          "name": "stdout",
          "text": [
            "1\n",
            "Fizz\n",
            "3\n",
            "Fizz\n",
            "Buzz\n",
            "Fizz\n",
            "7\n",
            "Fizz\n",
            "9\n",
            "FizzBuzz\n"
          ]
        }
      ]
    },
    {
      "cell_type": "markdown",
      "source": [
        "6.Write a Python program to find the most frequent item in a list of numbers. Sample input: 2, 3, 4, 2, 5, 2 Sample output: 2"
      ],
      "metadata": {
        "id": "mmhOTzOOr2sv"
      }
    },
    {
      "cell_type": "code",
      "source": [
        "from collections import Counter\n",
        "\n",
        "def most_frequent_item(numbers):\n",
        "\n",
        "    frequency = Counter(numbers)\n",
        "\n",
        "\n",
        "    most_common_item, count = frequency.most_common(1)[0]\n",
        "\n",
        "    return most_common_item\n",
        "\n",
        "\n",
        "numbers = [2,3,4,2,5,2]\n",
        "\n",
        "most_frequent = most_frequent_item(numbers)\n",
        "\n",
        "print(f\"The most frequent item in the list is: {most_frequent}\")"
      ],
      "metadata": {
        "colab": {
          "base_uri": "https://localhost:8080/"
        },
        "id": "rJUvbg4nr6EP",
        "outputId": "544c1fea-8c74-490d-bb47-79cecac30e24"
      },
      "execution_count": 8,
      "outputs": [
        {
          "output_type": "stream",
          "name": "stdout",
          "text": [
            "The most frequent item in the list is: 2\n"
          ]
        }
      ]
    },
    {
      "cell_type": "markdown",
      "source": [
        "7.Write a Python program to find the sum of squares of the numbers in a list. Sample input: 2,1,3,1 Sample output: 15"
      ],
      "metadata": {
        "id": "FCNMGtmxsA4f"
      }
    },
    {
      "cell_type": "code",
      "source": [
        "def sum_of_squares(numbers):\n",
        "    return sum(x**2 for x in numbers)\n",
        "\n",
        "numbers = [2,1,3,1]\n",
        "\n",
        "result = sum_of_squares(numbers)\n",
        "\n",
        "print(f\"The sum of squares of the numbers in the list is: {result}\")"
      ],
      "metadata": {
        "colab": {
          "base_uri": "https://localhost:8080/"
        },
        "id": "x3GbGDNbsEML",
        "outputId": "44eaa1b0-2686-4f35-bd9f-bc4e20c8ebfc"
      },
      "execution_count": 9,
      "outputs": [
        {
          "output_type": "stream",
          "name": "stdout",
          "text": [
            "The sum of squares of the numbers in the list is: 15\n"
          ]
        }
      ]
    },
    {
      "cell_type": "markdown",
      "source": [
        "8.Write a Python program using for loop that will iterate from 1 to 15. For each iteration, check if the current number is odd or even, and display the message to the screen as odd or even. Sample input: 1….15 Sample output: 1-odd 2-even …. 15-odd\n"
      ],
      "metadata": {
        "id": "l9eIoozgsIpJ"
      }
    },
    {
      "cell_type": "code",
      "source": [
        "for i in range(1, 16):\n",
        "    if i % 2 == 0:\n",
        "        print(f\"{i} is even\")\n",
        "    else:\n",
        "        print(f\"{i} is odd\")\n"
      ],
      "metadata": {
        "colab": {
          "base_uri": "https://localhost:8080/"
        },
        "id": "s0DAWxcosMJy",
        "outputId": "98ba9584-272c-41cc-b6f7-5c5e1522ff81"
      },
      "execution_count": 10,
      "outputs": [
        {
          "output_type": "stream",
          "name": "stdout",
          "text": [
            "1 is odd\n",
            "2 is even\n",
            "3 is odd\n",
            "4 is even\n",
            "5 is odd\n",
            "6 is even\n",
            "7 is odd\n",
            "8 is even\n",
            "9 is odd\n",
            "10 is even\n",
            "11 is odd\n",
            "12 is even\n",
            "13 is odd\n",
            "14 is even\n",
            "15 is odd\n"
          ]
        }
      ]
    },
    {
      "cell_type": "markdown",
      "source": [
        "9.Write a Python program to convert temperatures to and from Celsius Fahrenheit. [Formula: c/5=f-32/9 where c=temperature in Celsius and f= temperature in Fahrenheit.] Sample input: Temperature in Fahrenheit =41 Sample output: Temperature in Celsius =5"
      ],
      "metadata": {
        "id": "NlkYgqUpsR1B"
      }
    },
    {
      "cell_type": "code",
      "source": [
        "def celsius_to_fahrenheit(celsius):\n",
        "    fahrenheit = (celsius * 9/5) + 32\n",
        "    return fahrenheit\n",
        "\n",
        "def fahrenheit_to_celsius(fahrenheit):\n",
        "    celsius = (fahrenheit - 32) * 5/9\n",
        "    return celsius\n",
        "\n",
        "print(\"Temperature Conversion Program\")\n",
        "choice = input(\"Type 'C' to convert from Celsius to Fahrenheit or 'F' to convert from Fahrenheit to Celsius: \").upper()\n",
        "\n",
        "if choice == 'C':\n",
        "    celsius = float(input(\"Enter temperature in Celsius: \"))\n",
        "    fahrenheit = celsius_to_fahrenheit(celsius)\n",
        "    print(f\"{celsius}°C is equal to {fahrenheit:.2f}°F\")\n",
        "\n",
        "elif choice == 'F':\n",
        "    fahrenheit = float(input(\"Enter temperature in Fahrenheit: \"))\n",
        "    celsius = fahrenheit_to_celsius(fahrenheit)\n",
        "    print(f\"{fahrenheit}°F is equal to {celsius:.2f}°C\")\n",
        "\n",
        "else:\n",
        "    print(\"Invalid choice. Please enter 'C' or 'F'.\")\n"
      ],
      "metadata": {
        "colab": {
          "base_uri": "https://localhost:8080/"
        },
        "id": "nYLeflpisV7t",
        "outputId": "daf59c6d-5bac-4cdd-dda8-101f1b1492a4"
      },
      "execution_count": 12,
      "outputs": [
        {
          "output_type": "stream",
          "name": "stdout",
          "text": [
            "Temperature Conversion Program\n",
            "Type 'C' to convert from Celsius to Fahrenheit or 'F' to convert from Fahrenheit to Celsius: F\n",
            "Enter temperature in Fahrenheit: 41\n",
            "41.0°F is equal to 5.00°C\n"
          ]
        }
      ]
    },
    {
      "cell_type": "markdown",
      "source": [
        "10.Write a Python function to calculate the factorial of a number (a nonnegative integer). The function accepts the number as an argument. Sample input: 3 Sample output: 6"
      ],
      "metadata": {
        "id": "6cbvVKdnsldM"
      }
    },
    {
      "cell_type": "code",
      "source": [
        "def factorial(n):\n",
        "    if n == 0 or n == 1:\n",
        "        return 1\n",
        "    else:\n",
        "        result = 1\n",
        "        for i in range(2, n + 1):\n",
        "            result *= i\n",
        "        return result\n",
        "\n",
        "\n",
        "number = int(input(\"Enter Number:\"))\n",
        "fact = factorial(number)\n",
        "print(f\"The factorial of {number} is: {fact}\")\n"
      ],
      "metadata": {
        "colab": {
          "base_uri": "https://localhost:8080/"
        },
        "id": "pyKT3M0qso_S",
        "outputId": "e68f3e96-cd38-460f-cc10-d867fc8bee1a"
      },
      "execution_count": 13,
      "outputs": [
        {
          "output_type": "stream",
          "name": "stdout",
          "text": [
            "Enter Number:3\n",
            "The factorial of 3 is: 6\n"
          ]
        }
      ]
    }
  ]
}