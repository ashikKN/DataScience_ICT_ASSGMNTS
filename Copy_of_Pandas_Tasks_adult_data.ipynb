{
  "nbformat": 4,
  "nbformat_minor": 0,
  "metadata": {
    "colab": {
      "provenance": [],
      "include_colab_link": true
    },
    "kernelspec": {
      "name": "python3",
      "display_name": "Python 3"
    },
    "language_info": {
      "name": "python"
    }
  },
  "cells": [
    {
      "cell_type": "markdown",
      "metadata": {
        "id": "view-in-github",
        "colab_type": "text"
      },
      "source": [
        "<a href=\"https://colab.research.google.com/github/ashikKN/DataScience_ICT_ASSGMNTS/blob/main/Copy_of_Pandas_Tasks_adult_data.ipynb\" target=\"_parent\"><img src=\"https://colab.research.google.com/assets/colab-badge.svg\" alt=\"Open In Colab\"/></a>"
      ]
    },
    {
      "cell_type": "code",
      "execution_count": 2,
      "metadata": {
        "id": "JkDcsOfDRC5o"
      },
      "outputs": [],
      "source": [
        "import pandas as pd"
      ]
    },
    {
      "cell_type": "markdown",
      "source": [
        "read the data"
      ],
      "metadata": {
        "id": "oeZnLikWRDs_"
      }
    },
    {
      "cell_type": "code",
      "source": [
        "df = pd.read_csv('/content/adult.csv')\n",
        "print(df.head())"
      ],
      "metadata": {
        "id": "f6v3MFa-RF5i",
        "outputId": "55a00ae7-a060-4179-e951-1e88795fa61d",
        "colab": {
          "base_uri": "https://localhost:8080/"
        }
      },
      "execution_count": 4,
      "outputs": [
        {
          "output_type": "stream",
          "name": "stdout",
          "text": [
            "   age  workclass  fnlwgt     education  educational-num      marital-status  \\\n",
            "0   25    Private  226802          11th                7       Never-married   \n",
            "1   38    Private   89814       HS-grad                9  Married-civ-spouse   \n",
            "2   28  Local-gov  336951    Assoc-acdm               12  Married-civ-spouse   \n",
            "3   44    Private  160323  Some-college               10  Married-civ-spouse   \n",
            "4   18          ?  103497  Some-college               10       Never-married   \n",
            "\n",
            "          occupation relationship   race  gender  capital-gain  capital-loss  \\\n",
            "0  Machine-op-inspct    Own-child  Black    Male             0             0   \n",
            "1    Farming-fishing      Husband  White    Male             0             0   \n",
            "2    Protective-serv      Husband  White    Male             0             0   \n",
            "3  Machine-op-inspct      Husband  Black    Male          7688             0   \n",
            "4                  ?    Own-child  White  Female             0             0   \n",
            "\n",
            "   hours-per-week native-country income  \n",
            "0              40  United-States  <=50K  \n",
            "1              50  United-States  <=50K  \n",
            "2              40  United-States   >50K  \n",
            "3              40  United-States   >50K  \n",
            "4              30  United-States  <=50K  \n"
          ]
        }
      ]
    },
    {
      "cell_type": "markdown",
      "source": [
        "Display the first 5 rows of the dataset."
      ],
      "metadata": {
        "id": "M0eR7nLZRGeT"
      }
    },
    {
      "cell_type": "code",
      "source": [
        "print(df.head(5))"
      ],
      "metadata": {
        "id": "hnbbT3PpRHri",
        "outputId": "180611bf-b7d0-4fa7-afbb-e18c9bd2918b",
        "colab": {
          "base_uri": "https://localhost:8080/"
        }
      },
      "execution_count": 5,
      "outputs": [
        {
          "output_type": "stream",
          "name": "stdout",
          "text": [
            "   age  workclass  fnlwgt     education  educational-num      marital-status  \\\n",
            "0   25    Private  226802          11th                7       Never-married   \n",
            "1   38    Private   89814       HS-grad                9  Married-civ-spouse   \n",
            "2   28  Local-gov  336951    Assoc-acdm               12  Married-civ-spouse   \n",
            "3   44    Private  160323  Some-college               10  Married-civ-spouse   \n",
            "4   18          ?  103497  Some-college               10       Never-married   \n",
            "\n",
            "          occupation relationship   race  gender  capital-gain  capital-loss  \\\n",
            "0  Machine-op-inspct    Own-child  Black    Male             0             0   \n",
            "1    Farming-fishing      Husband  White    Male             0             0   \n",
            "2    Protective-serv      Husband  White    Male             0             0   \n",
            "3  Machine-op-inspct      Husband  Black    Male          7688             0   \n",
            "4                  ?    Own-child  White  Female             0             0   \n",
            "\n",
            "   hours-per-week native-country income  \n",
            "0              40  United-States  <=50K  \n",
            "1              50  United-States  <=50K  \n",
            "2              40  United-States   >50K  \n",
            "3              40  United-States   >50K  \n",
            "4              30  United-States  <=50K  \n"
          ]
        }
      ]
    },
    {
      "cell_type": "markdown",
      "source": [
        "summary of the DataFrame"
      ],
      "metadata": {
        "id": "asqYVwG_RIBb"
      }
    },
    {
      "cell_type": "code",
      "source": [
        "summary=df.describe(include='all')\n",
        "print(summary)"
      ],
      "metadata": {
        "id": "cUkEutZLRMia",
        "outputId": "a54b7ca4-92de-43cf-bff7-7d526b773acd",
        "colab": {
          "base_uri": "https://localhost:8080/"
        }
      },
      "execution_count": 6,
      "outputs": [
        {
          "output_type": "stream",
          "name": "stdout",
          "text": [
            "                 age workclass        fnlwgt education  educational-num  \\\n",
            "count   48842.000000     48842  4.884200e+04     48842     48842.000000   \n",
            "unique           NaN         9           NaN        16              NaN   \n",
            "top              NaN   Private           NaN   HS-grad              NaN   \n",
            "freq             NaN     33906           NaN     15784              NaN   \n",
            "mean       38.643585       NaN  1.896641e+05       NaN        10.078089   \n",
            "std        13.710510       NaN  1.056040e+05       NaN         2.570973   \n",
            "min        17.000000       NaN  1.228500e+04       NaN         1.000000   \n",
            "25%        28.000000       NaN  1.175505e+05       NaN         9.000000   \n",
            "50%        37.000000       NaN  1.781445e+05       NaN        10.000000   \n",
            "75%        48.000000       NaN  2.376420e+05       NaN        12.000000   \n",
            "max        90.000000       NaN  1.490400e+06       NaN        16.000000   \n",
            "\n",
            "            marital-status      occupation relationship   race gender  \\\n",
            "count                48842           48842        48842  48842  48842   \n",
            "unique                   7              15            6      5      2   \n",
            "top     Married-civ-spouse  Prof-specialty      Husband  White   Male   \n",
            "freq                 22379            6172        19716  41762  32650   \n",
            "mean                   NaN             NaN          NaN    NaN    NaN   \n",
            "std                    NaN             NaN          NaN    NaN    NaN   \n",
            "min                    NaN             NaN          NaN    NaN    NaN   \n",
            "25%                    NaN             NaN          NaN    NaN    NaN   \n",
            "50%                    NaN             NaN          NaN    NaN    NaN   \n",
            "75%                    NaN             NaN          NaN    NaN    NaN   \n",
            "max                    NaN             NaN          NaN    NaN    NaN   \n",
            "\n",
            "        capital-gain  capital-loss  hours-per-week native-country income  \n",
            "count   48842.000000  48842.000000    48842.000000          48842  48842  \n",
            "unique           NaN           NaN             NaN             42      2  \n",
            "top              NaN           NaN             NaN  United-States  <=50K  \n",
            "freq             NaN           NaN             NaN          43832  37155  \n",
            "mean     1079.067626     87.502314       40.422382            NaN    NaN  \n",
            "std      7452.019058    403.004552       12.391444            NaN    NaN  \n",
            "min         0.000000      0.000000        1.000000            NaN    NaN  \n",
            "25%         0.000000      0.000000       40.000000            NaN    NaN  \n",
            "50%         0.000000      0.000000       40.000000            NaN    NaN  \n",
            "75%         0.000000      0.000000       45.000000            NaN    NaN  \n",
            "max     99999.000000   4356.000000       99.000000            NaN    NaN  \n"
          ]
        }
      ]
    },
    {
      "cell_type": "markdown",
      "source": [
        "descriptive statistics for numeric columns"
      ],
      "metadata": {
        "id": "owO_78hGRPYK"
      }
    },
    {
      "cell_type": "code",
      "source": [
        "numeric_summary = df.describe()\n",
        "print(numeric_summary)"
      ],
      "metadata": {
        "id": "egJOKtYGRQIW",
        "outputId": "aab0bef2-0fa0-4599-ca84-dea3e0627a06",
        "colab": {
          "base_uri": "https://localhost:8080/"
        }
      },
      "execution_count": 7,
      "outputs": [
        {
          "output_type": "stream",
          "name": "stdout",
          "text": [
            "                age        fnlwgt  educational-num  capital-gain  \\\n",
            "count  48842.000000  4.884200e+04     48842.000000  48842.000000   \n",
            "mean      38.643585  1.896641e+05        10.078089   1079.067626   \n",
            "std       13.710510  1.056040e+05         2.570973   7452.019058   \n",
            "min       17.000000  1.228500e+04         1.000000      0.000000   \n",
            "25%       28.000000  1.175505e+05         9.000000      0.000000   \n",
            "50%       37.000000  1.781445e+05        10.000000      0.000000   \n",
            "75%       48.000000  2.376420e+05        12.000000      0.000000   \n",
            "max       90.000000  1.490400e+06        16.000000  99999.000000   \n",
            "\n",
            "       capital-loss  hours-per-week  \n",
            "count  48842.000000    48842.000000  \n",
            "mean      87.502314       40.422382  \n",
            "std      403.004552       12.391444  \n",
            "min        0.000000        1.000000  \n",
            "25%        0.000000       40.000000  \n",
            "50%        0.000000       40.000000  \n",
            "75%        0.000000       45.000000  \n",
            "max     4356.000000       99.000000  \n"
          ]
        }
      ]
    },
    {
      "cell_type": "markdown",
      "source": [
        "Display the column names of the DataFrame."
      ],
      "metadata": {
        "id": "3gcgaLEfRSjj"
      }
    },
    {
      "cell_type": "code",
      "source": [
        "print(df.columns)"
      ],
      "metadata": {
        "id": "T5xzlLqtRTYT",
        "outputId": "09cdb7c3-c510-43ce-e5e8-4061e3816dec",
        "colab": {
          "base_uri": "https://localhost:8080/"
        }
      },
      "execution_count": 8,
      "outputs": [
        {
          "output_type": "stream",
          "name": "stdout",
          "text": [
            "Index(['age', 'workclass', 'fnlwgt', 'education', 'educational-num',\n",
            "       'marital-status', 'occupation', 'relationship', 'race', 'gender',\n",
            "       'capital-gain', 'capital-loss', 'hours-per-week', 'native-country',\n",
            "       'income'],\n",
            "      dtype='object')\n"
          ]
        }
      ]
    },
    {
      "cell_type": "markdown",
      "source": [
        "unique values in the 'workclass' column."
      ],
      "metadata": {
        "id": "r-w_MuEvRVyk"
      }
    },
    {
      "cell_type": "code",
      "source": [
        "unique_values = df['workclass'].unique()\n",
        "print(unique_values)"
      ],
      "metadata": {
        "id": "GE2XirkjRXAc",
        "outputId": "fe37aaba-ea47-458e-aeea-ca4d66364013",
        "colab": {
          "base_uri": "https://localhost:8080/"
        }
      },
      "execution_count": 9,
      "outputs": [
        {
          "output_type": "stream",
          "name": "stdout",
          "text": [
            "['Private' 'Local-gov' '?' 'Self-emp-not-inc' 'Federal-gov' 'State-gov'\n",
            " 'Self-emp-inc' 'Without-pay' 'Never-worked']\n"
          ]
        }
      ]
    },
    {
      "cell_type": "markdown",
      "source": [
        "Create a new column 'income_binary' where <=50K is 0 and >50K is 1."
      ],
      "metadata": {
        "id": "9lA9RnDCRZYf"
      }
    },
    {
      "cell_type": "code",
      "source": [
        "def category_income(income):\n",
        "  if income == '<=50K':\n",
        "    return 0\n",
        "  else:\n",
        "    return 1\n",
        "\n",
        "df['income_binary']=df['income'].apply(category_income)\n",
        "print(df.head)"
      ],
      "metadata": {
        "id": "tcSb1bMLRchy",
        "colab": {
          "base_uri": "https://localhost:8080/"
        },
        "outputId": "1c448c73-63bc-40c8-ddfb-4736ff4e6e4d"
      },
      "execution_count": 10,
      "outputs": [
        {
          "output_type": "stream",
          "name": "stdout",
          "text": [
            "<bound method NDFrame.head of        age     workclass  fnlwgt     education  educational-num  \\\n",
            "0       25       Private  226802          11th                7   \n",
            "1       38       Private   89814       HS-grad                9   \n",
            "2       28     Local-gov  336951    Assoc-acdm               12   \n",
            "3       44       Private  160323  Some-college               10   \n",
            "4       18             ?  103497  Some-college               10   \n",
            "...    ...           ...     ...           ...              ...   \n",
            "48837   27       Private  257302    Assoc-acdm               12   \n",
            "48838   40       Private  154374       HS-grad                9   \n",
            "48839   58       Private  151910       HS-grad                9   \n",
            "48840   22       Private  201490       HS-grad                9   \n",
            "48841   52  Self-emp-inc  287927       HS-grad                9   \n",
            "\n",
            "           marital-status         occupation relationship   race  gender  \\\n",
            "0           Never-married  Machine-op-inspct    Own-child  Black    Male   \n",
            "1      Married-civ-spouse    Farming-fishing      Husband  White    Male   \n",
            "2      Married-civ-spouse    Protective-serv      Husband  White    Male   \n",
            "3      Married-civ-spouse  Machine-op-inspct      Husband  Black    Male   \n",
            "4           Never-married                  ?    Own-child  White  Female   \n",
            "...                   ...                ...          ...    ...     ...   \n",
            "48837  Married-civ-spouse       Tech-support         Wife  White  Female   \n",
            "48838  Married-civ-spouse  Machine-op-inspct      Husband  White    Male   \n",
            "48839             Widowed       Adm-clerical    Unmarried  White  Female   \n",
            "48840       Never-married       Adm-clerical    Own-child  White    Male   \n",
            "48841  Married-civ-spouse    Exec-managerial         Wife  White  Female   \n",
            "\n",
            "       capital-gain  capital-loss  hours-per-week native-country income  \\\n",
            "0                 0             0              40  United-States  <=50K   \n",
            "1                 0             0              50  United-States  <=50K   \n",
            "2                 0             0              40  United-States   >50K   \n",
            "3              7688             0              40  United-States   >50K   \n",
            "4                 0             0              30  United-States  <=50K   \n",
            "...             ...           ...             ...            ...    ...   \n",
            "48837             0             0              38  United-States  <=50K   \n",
            "48838             0             0              40  United-States   >50K   \n",
            "48839             0             0              40  United-States  <=50K   \n",
            "48840             0             0              20  United-States  <=50K   \n",
            "48841         15024             0              40  United-States   >50K   \n",
            "\n",
            "       income_binary  \n",
            "0                  0  \n",
            "1                  0  \n",
            "2                  1  \n",
            "3                  1  \n",
            "4                  0  \n",
            "...              ...  \n",
            "48837              0  \n",
            "48838              1  \n",
            "48839              0  \n",
            "48840              0  \n",
            "48841              1  \n",
            "\n",
            "[48842 rows x 16 columns]>\n"
          ]
        }
      ]
    },
    {
      "cell_type": "markdown",
      "source": [
        "Create a new column 'age_group' categorizing ages into 'Youth' (< 30), 'Adult' (30-60), and 'Senior' (60+)."
      ],
      "metadata": {
        "id": "OHGJMko4Rc8r"
      }
    },
    {
      "cell_type": "code",
      "source": [
        "def age_category(age):\n",
        "  if age<30:\n",
        "    return 'Youth'\n",
        "  if age > 30 and age <=60:\n",
        "    return 'Youth'\n",
        "  else:\n",
        "    return 'Senior'\n",
        "\n",
        "df['age_group'] = df['age'].apply(age_category)\n",
        "print(df.head())"
      ],
      "metadata": {
        "id": "e3Jb3Cr0ReFT",
        "colab": {
          "base_uri": "https://localhost:8080/"
        },
        "outputId": "1a409e0f-a3d8-413a-fbef-aa47feed1bf4"
      },
      "execution_count": 11,
      "outputs": [
        {
          "output_type": "stream",
          "name": "stdout",
          "text": [
            "   age  workclass  fnlwgt     education  educational-num      marital-status  \\\n",
            "0   25    Private  226802          11th                7       Never-married   \n",
            "1   38    Private   89814       HS-grad                9  Married-civ-spouse   \n",
            "2   28  Local-gov  336951    Assoc-acdm               12  Married-civ-spouse   \n",
            "3   44    Private  160323  Some-college               10  Married-civ-spouse   \n",
            "4   18          ?  103497  Some-college               10       Never-married   \n",
            "\n",
            "          occupation relationship   race  gender  capital-gain  capital-loss  \\\n",
            "0  Machine-op-inspct    Own-child  Black    Male             0             0   \n",
            "1    Farming-fishing      Husband  White    Male             0             0   \n",
            "2    Protective-serv      Husband  White    Male             0             0   \n",
            "3  Machine-op-inspct      Husband  Black    Male          7688             0   \n",
            "4                  ?    Own-child  White  Female             0             0   \n",
            "\n",
            "   hours-per-week native-country income  income_binary age_group  \n",
            "0              40  United-States  <=50K              0     Youth  \n",
            "1              50  United-States  <=50K              0     Youth  \n",
            "2              40  United-States   >50K              1     Youth  \n",
            "3              40  United-States   >50K              1     Youth  \n",
            "4              30  United-States  <=50K              0     Youth  \n"
          ]
        }
      ]
    },
    {
      "cell_type": "markdown",
      "source": [
        "Rename the 'educational-num' column to 'education_num'."
      ],
      "metadata": {
        "id": "lQE44AW5Ref1"
      }
    },
    {
      "cell_type": "markdown",
      "source": [],
      "metadata": {
        "id": "e7akBMPSox1-"
      }
    },
    {
      "cell_type": "code",
      "source": [
        "df.rename(columns={'educational-num': 'education-num'}, inplace=True)\n",
        "print(df.head)"
      ],
      "metadata": {
        "id": "jW0Ml7yCRkhm",
        "colab": {
          "base_uri": "https://localhost:8080/"
        },
        "outputId": "46e9e5d4-60ae-42d8-e9e7-39451a93b63c"
      },
      "execution_count": 12,
      "outputs": [
        {
          "output_type": "stream",
          "name": "stdout",
          "text": [
            "<bound method NDFrame.head of        age     workclass  fnlwgt     education  education-num  \\\n",
            "0       25       Private  226802          11th              7   \n",
            "1       38       Private   89814       HS-grad              9   \n",
            "2       28     Local-gov  336951    Assoc-acdm             12   \n",
            "3       44       Private  160323  Some-college             10   \n",
            "4       18             ?  103497  Some-college             10   \n",
            "...    ...           ...     ...           ...            ...   \n",
            "48837   27       Private  257302    Assoc-acdm             12   \n",
            "48838   40       Private  154374       HS-grad              9   \n",
            "48839   58       Private  151910       HS-grad              9   \n",
            "48840   22       Private  201490       HS-grad              9   \n",
            "48841   52  Self-emp-inc  287927       HS-grad              9   \n",
            "\n",
            "           marital-status         occupation relationship   race  gender  \\\n",
            "0           Never-married  Machine-op-inspct    Own-child  Black    Male   \n",
            "1      Married-civ-spouse    Farming-fishing      Husband  White    Male   \n",
            "2      Married-civ-spouse    Protective-serv      Husband  White    Male   \n",
            "3      Married-civ-spouse  Machine-op-inspct      Husband  Black    Male   \n",
            "4           Never-married                  ?    Own-child  White  Female   \n",
            "...                   ...                ...          ...    ...     ...   \n",
            "48837  Married-civ-spouse       Tech-support         Wife  White  Female   \n",
            "48838  Married-civ-spouse  Machine-op-inspct      Husband  White    Male   \n",
            "48839             Widowed       Adm-clerical    Unmarried  White  Female   \n",
            "48840       Never-married       Adm-clerical    Own-child  White    Male   \n",
            "48841  Married-civ-spouse    Exec-managerial         Wife  White  Female   \n",
            "\n",
            "       capital-gain  capital-loss  hours-per-week native-country income  \\\n",
            "0                 0             0              40  United-States  <=50K   \n",
            "1                 0             0              50  United-States  <=50K   \n",
            "2                 0             0              40  United-States   >50K   \n",
            "3              7688             0              40  United-States   >50K   \n",
            "4                 0             0              30  United-States  <=50K   \n",
            "...             ...           ...             ...            ...    ...   \n",
            "48837             0             0              38  United-States  <=50K   \n",
            "48838             0             0              40  United-States   >50K   \n",
            "48839             0             0              40  United-States  <=50K   \n",
            "48840             0             0              20  United-States  <=50K   \n",
            "48841         15024             0              40  United-States   >50K   \n",
            "\n",
            "       income_binary age_group  \n",
            "0                  0     Youth  \n",
            "1                  0     Youth  \n",
            "2                  1     Youth  \n",
            "3                  1     Youth  \n",
            "4                  0     Youth  \n",
            "...              ...       ...  \n",
            "48837              0     Youth  \n",
            "48838              1     Youth  \n",
            "48839              0     Youth  \n",
            "48840              0     Youth  \n",
            "48841              1     Youth  \n",
            "\n",
            "[48842 rows x 17 columns]>\n"
          ]
        }
      ]
    },
    {
      "cell_type": "markdown",
      "source": [
        "Replace the missing values represented by '?' in 'workclass' and 'occupation' columns with 'Unknown'."
      ],
      "metadata": {
        "id": "QZnM8h18Rk2m"
      }
    },
    {
      "cell_type": "code",
      "source": [
        "df['workclass'] = df['workclass'].replace('?', 'Unknown')\n",
        "df['occupation']=df['occupation'].replace('?','Unknown')\n",
        "print(df)"
      ],
      "metadata": {
        "colab": {
          "base_uri": "https://localhost:8080/"
        },
        "id": "oK_4_F62p2hE",
        "outputId": "a9c62876-70c8-4827-c4d9-22e1b65099f4"
      },
      "execution_count": 13,
      "outputs": [
        {
          "output_type": "stream",
          "name": "stdout",
          "text": [
            "       age     workclass  fnlwgt     education  education-num  \\\n",
            "0       25       Private  226802          11th              7   \n",
            "1       38       Private   89814       HS-grad              9   \n",
            "2       28     Local-gov  336951    Assoc-acdm             12   \n",
            "3       44       Private  160323  Some-college             10   \n",
            "4       18       Unknown  103497  Some-college             10   \n",
            "...    ...           ...     ...           ...            ...   \n",
            "48837   27       Private  257302    Assoc-acdm             12   \n",
            "48838   40       Private  154374       HS-grad              9   \n",
            "48839   58       Private  151910       HS-grad              9   \n",
            "48840   22       Private  201490       HS-grad              9   \n",
            "48841   52  Self-emp-inc  287927       HS-grad              9   \n",
            "\n",
            "           marital-status         occupation relationship   race  gender  \\\n",
            "0           Never-married  Machine-op-inspct    Own-child  Black    Male   \n",
            "1      Married-civ-spouse    Farming-fishing      Husband  White    Male   \n",
            "2      Married-civ-spouse    Protective-serv      Husband  White    Male   \n",
            "3      Married-civ-spouse  Machine-op-inspct      Husband  Black    Male   \n",
            "4           Never-married            Unknown    Own-child  White  Female   \n",
            "...                   ...                ...          ...    ...     ...   \n",
            "48837  Married-civ-spouse       Tech-support         Wife  White  Female   \n",
            "48838  Married-civ-spouse  Machine-op-inspct      Husband  White    Male   \n",
            "48839             Widowed       Adm-clerical    Unmarried  White  Female   \n",
            "48840       Never-married       Adm-clerical    Own-child  White    Male   \n",
            "48841  Married-civ-spouse    Exec-managerial         Wife  White  Female   \n",
            "\n",
            "       capital-gain  capital-loss  hours-per-week native-country income  \\\n",
            "0                 0             0              40  United-States  <=50K   \n",
            "1                 0             0              50  United-States  <=50K   \n",
            "2                 0             0              40  United-States   >50K   \n",
            "3              7688             0              40  United-States   >50K   \n",
            "4                 0             0              30  United-States  <=50K   \n",
            "...             ...           ...             ...            ...    ...   \n",
            "48837             0             0              38  United-States  <=50K   \n",
            "48838             0             0              40  United-States   >50K   \n",
            "48839             0             0              40  United-States  <=50K   \n",
            "48840             0             0              20  United-States  <=50K   \n",
            "48841         15024             0              40  United-States   >50K   \n",
            "\n",
            "       income_binary age_group  \n",
            "0                  0     Youth  \n",
            "1                  0     Youth  \n",
            "2                  1     Youth  \n",
            "3                  1     Youth  \n",
            "4                  0     Youth  \n",
            "...              ...       ...  \n",
            "48837              0     Youth  \n",
            "48838              1     Youth  \n",
            "48839              0     Youth  \n",
            "48840              0     Youth  \n",
            "48841              1     Youth  \n",
            "\n",
            "[48842 rows x 17 columns]\n"
          ]
        }
      ]
    },
    {
      "cell_type": "markdown",
      "source": [
        "Calculate the average age for each workclass."
      ],
      "metadata": {
        "id": "PFV7YT5-qw6m"
      }
    },
    {
      "cell_type": "code",
      "source": [
        "average_age_per_workclass = df.groupby('workclass')['age'].mean()\n",
        "print(average_age_per_workclass)"
      ],
      "metadata": {
        "id": "LXB0QuTdRixM",
        "colab": {
          "base_uri": "https://localhost:8080/"
        },
        "outputId": "82be9f70-8925-4e95-e983-1b08a9804666"
      },
      "execution_count": 14,
      "outputs": [
        {
          "output_type": "stream",
          "name": "stdout",
          "text": [
            "workclass\n",
            "Federal-gov         42.577514\n",
            "Local-gov           41.676020\n",
            "Never-worked        19.900000\n",
            "Private             36.903144\n",
            "Self-emp-inc        45.799410\n",
            "Self-emp-not-inc    45.332470\n",
            "State-gov           39.512367\n",
            "Unknown             40.141122\n",
            "Without-pay         47.285714\n",
            "Name: age, dtype: float64\n"
          ]
        }
      ]
    },
    {
      "cell_type": "markdown",
      "source": [
        "Find the total capital-gain for each gender."
      ],
      "metadata": {
        "id": "RI77BsjkRxaj"
      }
    },
    {
      "cell_type": "code",
      "source": [
        "total_capital_gain_by_gender = df.groupby('gender')['capital-gain'].sum()\n",
        "print(total_capital_gain_by_gender)"
      ],
      "metadata": {
        "id": "Fy6MdoLLR1sw",
        "colab": {
          "base_uri": "https://localhost:8080/"
        },
        "outputId": "a554a52e-e485-40fe-ad4c-264a25b10c94"
      },
      "execution_count": 15,
      "outputs": [
        {
          "output_type": "stream",
          "name": "stdout",
          "text": [
            "gender\n",
            "Female     9403120\n",
            "Male      43300701\n",
            "Name: capital-gain, dtype: int64\n"
          ]
        }
      ]
    },
    {
      "cell_type": "markdown",
      "source": [
        "Get the count of each marital-status category."
      ],
      "metadata": {
        "id": "nRIhYKEURrLO"
      }
    },
    {
      "cell_type": "code",
      "source": [
        "marital_status_counts = df['marital-status'].value_counts()\n",
        "print(marital_status_counts)"
      ],
      "metadata": {
        "id": "1maOMDw4R5UK",
        "colab": {
          "base_uri": "https://localhost:8080/"
        },
        "outputId": "30eb0055-4183-4de9-cb87-49cabb72740f"
      },
      "execution_count": 16,
      "outputs": [
        {
          "output_type": "stream",
          "name": "stdout",
          "text": [
            "marital-status\n",
            "Married-civ-spouse       22379\n",
            "Never-married            16117\n",
            "Divorced                  6633\n",
            "Separated                 1530\n",
            "Widowed                   1518\n",
            "Married-spouse-absent      628\n",
            "Married-AF-spouse           37\n",
            "Name: count, dtype: int64\n"
          ]
        }
      ]
    },
    {
      "cell_type": "markdown",
      "source": [
        "Find the mean hours-per-week worked by individuals in different education levels."
      ],
      "metadata": {
        "id": "c31zHtUjR5qo"
      }
    },
    {
      "cell_type": "code",
      "source": [
        "mean_hours_by_education = df.groupby('education')['hours-per-week'].mean()\n",
        "print(mean_hours_by_education)"
      ],
      "metadata": {
        "id": "2L4CvtUyR8Fi",
        "colab": {
          "base_uri": "https://localhost:8080/"
        },
        "outputId": "302b3c42-f9cd-4c0f-91cb-0198a8e666fb"
      },
      "execution_count": 17,
      "outputs": [
        {
          "output_type": "stream",
          "name": "stdout",
          "text": [
            "education\n",
            "10th            36.986321\n",
            "11th            33.952539\n",
            "12th            35.374429\n",
            "1st-4th         38.761134\n",
            "5th-6th         38.923379\n",
            "7th-8th         39.003141\n",
            "9th             38.359788\n",
            "Assoc-acdm      40.809494\n",
            "Assoc-voc       41.658418\n",
            "Bachelors       42.482492\n",
            "Doctorate       46.582492\n",
            "HS-grad         40.640775\n",
            "Masters         43.575837\n",
            "Preschool       36.566265\n",
            "Prof-school     47.579137\n",
            "Some-college    38.865784\n",
            "Name: hours-per-week, dtype: float64\n"
          ]
        }
      ]
    },
    {
      "cell_type": "markdown",
      "source": [
        "Calculate the mean, median, and standard deviation of 'fnlwgt' for each race."
      ],
      "metadata": {
        "id": "4qloBOBRR8Xj"
      }
    },
    {
      "cell_type": "code",
      "source": [
        "fnlwgt_stats_by_race = df.groupby('race')['fnlwgt'].agg(['mean', 'median', 'std'])\n",
        "print(fnlwgt_stats_by_race)"
      ],
      "metadata": {
        "id": "tvmvGXFBR_AG",
        "colab": {
          "base_uri": "https://localhost:8080/"
        },
        "outputId": "18a70816-3009-490d-db96-cb2fa5f098ef"
      },
      "execution_count": 18,
      "outputs": [
        {
          "output_type": "stream",
          "name": "stdout",
          "text": [
            "                             mean    median            std\n",
            "race                                                      \n",
            "Amer-Indian-Eskimo  120110.985106  101579.0   94655.908850\n",
            "Asian-Pac-Islander  159796.946675  139850.0   86997.647681\n",
            "Black               230485.070438  208266.0  125445.929357\n",
            "Other               195715.689655  188066.5   94063.712981\n",
            "White               186894.995738  177287.0  102637.466726\n"
          ]
        }
      ]
    },
    {
      "cell_type": "markdown",
      "source": [
        "Get the unique values and their counts for the 'native-country' column"
      ],
      "metadata": {
        "id": "dEGRU01lR_2X"
      }
    },
    {
      "cell_type": "code",
      "source": [
        "native_country_counts = df['native-country'].value_counts()\n",
        "print(native_country_counts)"
      ],
      "metadata": {
        "id": "pxp2d2JTSE1q",
        "colab": {
          "base_uri": "https://localhost:8080/"
        },
        "outputId": "892008a2-9144-4599-ff30-5cc2b60d9a23"
      },
      "execution_count": 19,
      "outputs": [
        {
          "output_type": "stream",
          "name": "stdout",
          "text": [
            "native-country\n",
            "United-States                 43832\n",
            "Mexico                          951\n",
            "?                               857\n",
            "Philippines                     295\n",
            "Germany                         206\n",
            "Puerto-Rico                     184\n",
            "Canada                          182\n",
            "El-Salvador                     155\n",
            "India                           151\n",
            "Cuba                            138\n",
            "England                         127\n",
            "China                           122\n",
            "South                           115\n",
            "Jamaica                         106\n",
            "Italy                           105\n",
            "Dominican-Republic              103\n",
            "Japan                            92\n",
            "Guatemala                        88\n",
            "Poland                           87\n",
            "Vietnam                          86\n",
            "Columbia                         85\n",
            "Haiti                            75\n",
            "Portugal                         67\n",
            "Taiwan                           65\n",
            "Iran                             59\n",
            "Greece                           49\n",
            "Nicaragua                        49\n",
            "Peru                             46\n",
            "Ecuador                          45\n",
            "France                           38\n",
            "Ireland                          37\n",
            "Hong                             30\n",
            "Thailand                         30\n",
            "Cambodia                         28\n",
            "Trinadad&Tobago                  27\n",
            "Laos                             23\n",
            "Yugoslavia                       23\n",
            "Outlying-US(Guam-USVI-etc)       23\n",
            "Scotland                         21\n",
            "Honduras                         20\n",
            "Hungary                          19\n",
            "Holand-Netherlands                1\n",
            "Name: count, dtype: int64\n"
          ]
        }
      ]
    },
    {
      "cell_type": "markdown",
      "source": [
        "Filter the dataset to include only individuals with income >50K."
      ],
      "metadata": {
        "id": "fr_Lg7kzUClD"
      }
    },
    {
      "cell_type": "code",
      "source": [
        "filtered_df = df[df['income'] == '>50K']\n",
        "print(filtered_df.head())"
      ],
      "metadata": {
        "id": "WsyyQR9fUDn5",
        "colab": {
          "base_uri": "https://localhost:8080/"
        },
        "outputId": "e01fb895-1f57-4ebb-fcc3-0bb6d86703fd"
      },
      "execution_count": 22,
      "outputs": [
        {
          "output_type": "stream",
          "name": "stdout",
          "text": [
            "    age         workclass  fnlwgt     education  education-num  \\\n",
            "2    28         Local-gov  336951    Assoc-acdm             12   \n",
            "3    44           Private  160323  Some-college             10   \n",
            "7    63  Self-emp-not-inc  104626   Prof-school             15   \n",
            "10   65           Private  184454       HS-grad              9   \n",
            "14   48           Private  279724       HS-grad              9   \n",
            "\n",
            "        marital-status         occupation relationship   race gender  \\\n",
            "2   Married-civ-spouse    Protective-serv      Husband  White   Male   \n",
            "3   Married-civ-spouse  Machine-op-inspct      Husband  Black   Male   \n",
            "7   Married-civ-spouse     Prof-specialty      Husband  White   Male   \n",
            "10  Married-civ-spouse  Machine-op-inspct      Husband  White   Male   \n",
            "14  Married-civ-spouse  Machine-op-inspct      Husband  White   Male   \n",
            "\n",
            "    capital-gain  capital-loss  hours-per-week native-country income  \\\n",
            "2              0             0              40  United-States   >50K   \n",
            "3           7688             0              40  United-States   >50K   \n",
            "7           3103             0              32  United-States   >50K   \n",
            "10          6418             0              40  United-States   >50K   \n",
            "14          3103             0              48  United-States   >50K   \n",
            "\n",
            "    income_binary age_group  \n",
            "2               1     Youth  \n",
            "3               1     Youth  \n",
            "7               1    Senior  \n",
            "10              1    Senior  \n",
            "14              1     Youth  \n"
          ]
        }
      ]
    },
    {
      "cell_type": "markdown",
      "source": [
        "Sort the dataset by age in descending order."
      ],
      "metadata": {
        "id": "19-aDl96UD9x"
      }
    },
    {
      "cell_type": "code",
      "source": [
        "sorted_df = df.sort_values(by='age', ascending=False)\n",
        "print(sorted_df.head())"
      ],
      "metadata": {
        "id": "dt_BdbMfUIQx",
        "colab": {
          "base_uri": "https://localhost:8080/"
        },
        "outputId": "c1ea290b-c9fc-4890-92e2-2787853e96c3"
      },
      "execution_count": 23,
      "outputs": [
        {
          "output_type": "stream",
          "name": "stdout",
          "text": [
            "       age  workclass  fnlwgt education  education-num      marital-status  \\\n",
            "40519   90    Unknown  166343   1st-4th              2             Widowed   \n",
            "21553   90    Private  141758       9th              5       Never-married   \n",
            "47977   90    Unknown  313986   HS-grad              9  Married-civ-spouse   \n",
            "21651   90  Local-gov  227796   Masters             14  Married-civ-spouse   \n",
            "41584   90    Unknown  175444   7th-8th              4           Separated   \n",
            "\n",
            "            occupation   relationship   race  gender  capital-gain  \\\n",
            "40519          Unknown  Not-in-family  Black  Female             0   \n",
            "21553     Adm-clerical  Not-in-family  White  Female             0   \n",
            "47977          Unknown        Husband  White    Male             0   \n",
            "21651  Exec-managerial        Husband  White    Male         20051   \n",
            "41584          Unknown  Not-in-family  White  Female             0   \n",
            "\n",
            "       capital-loss  hours-per-week native-country income  income_binary  \\\n",
            "40519             0              40  United-States  <=50K              0   \n",
            "21553             0              40  United-States  <=50K              0   \n",
            "47977             0              40  United-States   >50K              1   \n",
            "21651             0              60  United-States   >50K              1   \n",
            "41584             0              15  United-States  <=50K              0   \n",
            "\n",
            "      age_group  \n",
            "40519    Senior  \n",
            "21553    Senior  \n",
            "47977    Senior  \n",
            "21651    Senior  \n",
            "41584    Senior  \n"
          ]
        }
      ]
    },
    {
      "cell_type": "markdown",
      "source": [
        "Filter the dataset to include only individuals who work more than 40 hours per week.\n",
        "\n"
      ],
      "metadata": {
        "id": "aHuVJpuWUHj6"
      }
    },
    {
      "cell_type": "code",
      "source": [
        "filtered_df = df[df['hours-per-week'] > 40]\n",
        "print(filtered_df.head())"
      ],
      "metadata": {
        "id": "H8-HcaOwWeTE",
        "colab": {
          "base_uri": "https://localhost:8080/"
        },
        "outputId": "49d47a44-2b86-4cd6-97ae-f62f4c45aed5"
      },
      "execution_count": 24,
      "outputs": [
        {
          "output_type": "stream",
          "name": "stdout",
          "text": [
            "    age workclass  fnlwgt  education  education-num      marital-status  \\\n",
            "1    38   Private   89814    HS-grad              9  Married-civ-spouse   \n",
            "14   48   Private  279724    HS-grad              9  Married-civ-spouse   \n",
            "15   43   Private  346189    Masters             14  Married-civ-spouse   \n",
            "19   40   Private   85019  Doctorate             16  Married-civ-spouse   \n",
            "20   34   Private  107914  Bachelors             13  Married-civ-spouse   \n",
            "\n",
            "           occupation relationship                race gender  capital-gain  \\\n",
            "1     Farming-fishing      Husband               White   Male             0   \n",
            "14  Machine-op-inspct      Husband               White   Male          3103   \n",
            "15    Exec-managerial      Husband               White   Male             0   \n",
            "19     Prof-specialty      Husband  Asian-Pac-Islander   Male             0   \n",
            "20       Tech-support      Husband               White   Male             0   \n",
            "\n",
            "    capital-loss  hours-per-week native-country income  income_binary  \\\n",
            "1              0              50  United-States  <=50K              0   \n",
            "14             0              48  United-States   >50K              1   \n",
            "15             0              50  United-States   >50K              1   \n",
            "19             0              45              ?   >50K              1   \n",
            "20             0              47  United-States   >50K              1   \n",
            "\n",
            "   age_group  \n",
            "1      Youth  \n",
            "14     Youth  \n",
            "15     Youth  \n",
            "19     Youth  \n",
            "20     Youth  \n"
          ]
        }
      ]
    },
    {
      "cell_type": "markdown",
      "source": [
        "Calculate the percentage of missing values in each column."
      ],
      "metadata": {
        "id": "euVw6ci3Bv_z"
      }
    },
    {
      "cell_type": "code",
      "source": [
        "missing_percentage = df.isnull().mean() * 100\n",
        "print(missing_percentage)"
      ],
      "metadata": {
        "id": "JZMPlZG6WnNN",
        "colab": {
          "base_uri": "https://localhost:8080/"
        },
        "outputId": "06fddd5e-c10c-4544-a1f9-da6a26eb7c82"
      },
      "execution_count": 25,
      "outputs": [
        {
          "output_type": "stream",
          "name": "stdout",
          "text": [
            "age               0.0\n",
            "workclass         0.0\n",
            "fnlwgt            0.0\n",
            "education         0.0\n",
            "education-num     0.0\n",
            "marital-status    0.0\n",
            "occupation        0.0\n",
            "relationship      0.0\n",
            "race              0.0\n",
            "gender            0.0\n",
            "capital-gain      0.0\n",
            "capital-loss      0.0\n",
            "hours-per-week    0.0\n",
            "native-country    0.0\n",
            "income            0.0\n",
            "income_binary     0.0\n",
            "age_group         0.0\n",
            "dtype: float64\n"
          ]
        }
      ]
    },
    {
      "cell_type": "markdown",
      "source": [
        "Calculate the median income by education level and gender."
      ],
      "metadata": {
        "id": "UNXEa2PdWnrx"
      }
    },
    {
      "cell_type": "code",
      "source": [
        "df['income_numeric'] = df['income'].apply(lambda x: 1 if x == '>50K' else 0)\n",
        "\n",
        "median_income_by_education_gender = df.groupby(['education', 'gender'])['income_numeric'].median()\n",
        "print(\"Median Income by Education Level and Gender:\")\n",
        "print(median_income_by_education_gender)"
      ],
      "metadata": {
        "id": "OOwioDK6WwlN",
        "colab": {
          "base_uri": "https://localhost:8080/"
        },
        "outputId": "67c8a002-3883-459a-a427-cd18a386d5f8"
      },
      "execution_count": 33,
      "outputs": [
        {
          "output_type": "stream",
          "name": "stdout",
          "text": [
            "Median Income by Education Level and Gender:\n",
            "education     gender\n",
            "10th          Female    0.0\n",
            "              Male      0.0\n",
            "11th          Female    0.0\n",
            "              Male      0.0\n",
            "12th          Female    0.0\n",
            "              Male      0.0\n",
            "1st-4th       Female    0.0\n",
            "              Male      0.0\n",
            "5th-6th       Female    0.0\n",
            "              Male      0.0\n",
            "7th-8th       Female    0.0\n",
            "              Male      0.0\n",
            "9th           Female    0.0\n",
            "              Male      0.0\n",
            "Assoc-acdm    Female    0.0\n",
            "              Male      0.0\n",
            "Assoc-voc     Female    0.0\n",
            "              Male      0.0\n",
            "Bachelors     Female    0.0\n",
            "              Male      1.0\n",
            "Doctorate     Female    1.0\n",
            "              Male      1.0\n",
            "HS-grad       Female    0.0\n",
            "              Male      0.0\n",
            "Masters       Female    0.0\n",
            "              Male      1.0\n",
            "Preschool     Female    0.0\n",
            "              Male      0.0\n",
            "Prof-school   Female    0.0\n",
            "              Male      1.0\n",
            "Some-college  Female    0.0\n",
            "              Male      0.0\n",
            "Name: income_numeric, dtype: float64\n"
          ]
        }
      ]
    },
    {
      "cell_type": "markdown",
      "source": [
        "Find the top 3 occupations with the highest average capital-gain."
      ],
      "metadata": {
        "id": "gWX7xURdWymB"
      }
    },
    {
      "cell_type": "code",
      "source": [
        "average_capital_gain_by_occupation = df.groupby('occupation')['capital-gain'].mean()\n",
        "top_3_occupations = average_capital_gain_by_occupation.sort_values(ascending=False).head(3)\n",
        "print(top_3_occupations)"
      ],
      "metadata": {
        "id": "r0KetkkoXAeD",
        "colab": {
          "base_uri": "https://localhost:8080/"
        },
        "outputId": "9bcdcf0f-44c7-4125-e9d5-6eaff0121ea2"
      },
      "execution_count": 29,
      "outputs": [
        {
          "output_type": "stream",
          "name": "stdout",
          "text": [
            "occupation\n",
            "Prof-specialty     2745.918017\n",
            "Exec-managerial    2277.755504\n",
            "Sales              1266.898256\n",
            "Name: capital-gain, dtype: float64\n"
          ]
        }
      ]
    },
    {
      "cell_type": "markdown",
      "source": [
        "Filter the dataset to include individuals who are 'Married-civ-spouse' and have an income >50K."
      ],
      "metadata": {
        "id": "7A9gkvQsXGO_"
      }
    },
    {
      "cell_type": "code",
      "source": [
        "filtered_df = df[(df['marital-status'] == 'Married-civ-spouse') & (df['income'] == '>50K')]\n",
        "print(filtered_df)"
      ],
      "metadata": {
        "id": "x97bC-MPXHGP",
        "colab": {
          "base_uri": "https://localhost:8080/"
        },
        "outputId": "08e4ca69-8145-42a3-afe8-eb303084df4b"
      },
      "execution_count": 32,
      "outputs": [
        {
          "output_type": "stream",
          "name": "stdout",
          "text": [
            "       age         workclass  fnlwgt     education  education-num  \\\n",
            "2       28         Local-gov  336951    Assoc-acdm             12   \n",
            "3       44           Private  160323  Some-college             10   \n",
            "7       63  Self-emp-not-inc  104626   Prof-school             15   \n",
            "10      65           Private  184454       HS-grad              9   \n",
            "14      48           Private  279724       HS-grad              9   \n",
            "...    ...               ...     ...           ...            ...   \n",
            "48820   71           Unknown  287372     Doctorate             16   \n",
            "48826   39         Local-gov  111499    Assoc-acdm             12   \n",
            "48835   53           Private  321865       Masters             14   \n",
            "48838   40           Private  154374       HS-grad              9   \n",
            "48841   52      Self-emp-inc  287927       HS-grad              9   \n",
            "\n",
            "           marital-status         occupation relationship   race  gender  \\\n",
            "2      Married-civ-spouse    Protective-serv      Husband  White    Male   \n",
            "3      Married-civ-spouse  Machine-op-inspct      Husband  Black    Male   \n",
            "7      Married-civ-spouse     Prof-specialty      Husband  White    Male   \n",
            "10     Married-civ-spouse  Machine-op-inspct      Husband  White    Male   \n",
            "14     Married-civ-spouse  Machine-op-inspct      Husband  White    Male   \n",
            "...                   ...                ...          ...    ...     ...   \n",
            "48820  Married-civ-spouse            Unknown      Husband  White    Male   \n",
            "48826  Married-civ-spouse       Adm-clerical         Wife  White  Female   \n",
            "48835  Married-civ-spouse    Exec-managerial      Husband  White    Male   \n",
            "48838  Married-civ-spouse  Machine-op-inspct      Husband  White    Male   \n",
            "48841  Married-civ-spouse    Exec-managerial         Wife  White  Female   \n",
            "\n",
            "       capital-gain  capital-loss  hours-per-week native-country income  \\\n",
            "2                 0             0              40  United-States   >50K   \n",
            "3              7688             0              40  United-States   >50K   \n",
            "7              3103             0              32  United-States   >50K   \n",
            "10             6418             0              40  United-States   >50K   \n",
            "14             3103             0              48  United-States   >50K   \n",
            "...             ...           ...             ...            ...    ...   \n",
            "48820             0             0              10  United-States   >50K   \n",
            "48826             0             0              20  United-States   >50K   \n",
            "48835             0             0              40  United-States   >50K   \n",
            "48838             0             0              40  United-States   >50K   \n",
            "48841         15024             0              40  United-States   >50K   \n",
            "\n",
            "       income_binary age_group  \n",
            "2                  1     Youth  \n",
            "3                  1     Youth  \n",
            "7                  1    Senior  \n",
            "10                 1    Senior  \n",
            "14                 1     Youth  \n",
            "...              ...       ...  \n",
            "48820              1    Senior  \n",
            "48826              1     Youth  \n",
            "48835              1     Youth  \n",
            "48838              1     Youth  \n",
            "48841              1     Youth  \n",
            "\n",
            "[9984 rows x 17 columns]\n"
          ]
        }
      ]
    }
  ]
}